{
 "cells": [
  {
   "cell_type": "code",
   "execution_count": 1,
   "metadata": {
    "ExecuteTime": {
     "end_time": "2020-12-11T20:21:36.146159Z",
     "start_time": "2020-12-11T20:21:32.511668Z"
    }
   },
   "outputs": [],
   "source": [
    "import shelve\n",
    "import sys\n",
    "from pathlib import Path\n",
    "\n",
    "import codebook.EDA as EDA\n",
    "import codebook.clean as clean\n",
    "import numpy as np\n",
    "import pandas as pd\n",
    "import matplotlib.pyplot as plt\n",
    "import seaborn as sns"
   ]
  },
  {
   "cell_type": "code",
   "execution_count": 2,
   "metadata": {
    "ExecuteTime": {
     "end_time": "2020-12-11T20:21:36.324160Z",
     "start_time": "2020-12-11T20:21:36.150161Z"
    }
   },
   "outputs": [],
   "source": [
    "%load_ext autoreload\n",
    "%autoreload 2\n",
    "\n",
    "%matplotlib inline\n",
    "plt.style.use('raph-base')\n",
    "\n",
    "from IPython.core.interactiveshell import InteractiveShell\n",
    "InteractiveShell.ast_node_interactivity = 'all'\n",
    "\n",
    "pd.options.display.float_format = '{:,.2f}'.format\n",
    "pd.set_option('display.max_columns', 30)\n",
    "pd.set_option('display.expand_frame_repr', False)\n",
    "pd.set_option('max_colwidth', 800)\n",
    "\n",
    "np.random.seed(666)"
   ]
  },
  {
   "cell_type": "code",
   "execution_count": 3,
   "metadata": {
    "ExecuteTime": {
     "end_time": "2020-12-11T20:21:36.476683Z",
     "start_time": "2020-12-11T20:21:36.327159Z"
    }
   },
   "outputs": [
    {
     "name": "stdout",
     "output_type": "stream",
     "text": [
      "C:\\Users\\r2d4\\miniconda3\\envs\\py3\\python.exe\n",
      "3.8.3 (default, May 19 2020, 06:50:17) [MSC v.1916 64 bit (AMD64)]\n",
      "Pandas 1.1.3\n"
     ]
    }
   ],
   "source": [
    "print(sys.executable)\n",
    "print(sys.version)\n",
    "print(f'Pandas {pd.__version__}')"
   ]
  },
  {
   "cell_type": "markdown",
   "metadata": {},
   "source": [
    "## Load and Check Data"
   ]
  },
  {
   "cell_type": "code",
   "execution_count": 4,
   "metadata": {
    "ExecuteTime": {
     "end_time": "2020-12-11T20:21:36.978205Z",
     "start_time": "2020-12-11T20:21:36.480209Z"
    }
   },
   "outputs": [],
   "source": [
    "data_raw = pd.read_json(\"data/supplier_car.json\", lines=True)\n",
    "data_raw.replace(\"null\", np.nan, inplace=True)"
   ]
  },
  {
   "cell_type": "code",
   "execution_count": 5,
   "metadata": {
    "ExecuteTime": {
     "end_time": "2020-12-11T20:21:37.181208Z",
     "start_time": "2020-12-11T20:21:36.980206Z"
    }
   },
   "outputs": [
    {
     "data": {
      "text/html": [
       "<div>\n",
       "<style scoped>\n",
       "    .dataframe tbody tr th:only-of-type {\n",
       "        vertical-align: middle;\n",
       "    }\n",
       "\n",
       "    .dataframe tbody tr th {\n",
       "        vertical-align: top;\n",
       "    }\n",
       "\n",
       "    .dataframe thead th {\n",
       "        text-align: right;\n",
       "    }\n",
       "</style>\n",
       "<table border=\"1\" class=\"dataframe\">\n",
       "  <thead>\n",
       "    <tr style=\"text-align: right;\">\n",
       "      <th></th>\n",
       "      <th>ID</th>\n",
       "      <th>MakeText</th>\n",
       "      <th>TypeName</th>\n",
       "      <th>TypeNameFull</th>\n",
       "      <th>ModelText</th>\n",
       "      <th>ModelTypeText</th>\n",
       "      <th>Attribute Names</th>\n",
       "      <th>Attribute Values</th>\n",
       "      <th>entity_id</th>\n",
       "    </tr>\n",
       "  </thead>\n",
       "  <tbody>\n",
       "    <tr>\n",
       "      <th>915</th>\n",
       "      <td>1004</td>\n",
       "      <td>LAMBORGHINI</td>\n",
       "      <td>Gallardo 5.0 V10 Coupé SE</td>\n",
       "      <td>LAMBORGHINI Gallardo 5.0 V10 Coupé SE</td>\n",
       "      <td>GALLARDO</td>\n",
       "      <td>Gallardo 5.0 V10 Coupé SE</td>\n",
       "      <td>Seats</td>\n",
       "      <td>2</td>\n",
       "      <td>b0edbc85-3e45-4939-b4d7-0d83ea7e64de</td>\n",
       "    </tr>\n",
       "    <tr>\n",
       "      <th>17600</th>\n",
       "      <td>548</td>\n",
       "      <td>FERRARI</td>\n",
       "      <td>456M GTA</td>\n",
       "      <td>FERRARI 456M GTA</td>\n",
       "      <td>456</td>\n",
       "      <td>456M GTA</td>\n",
       "      <td>Hp</td>\n",
       "      <td>442</td>\n",
       "      <td>e1b87b8c-c0fd-4c6b-9f91-f8dd878aaa16</td>\n",
       "    </tr>\n",
       "    <tr>\n",
       "      <th>9428</th>\n",
       "      <td>428</td>\n",
       "      <td>CHEVROLET</td>\n",
       "      <td>Corvette ZR1</td>\n",
       "      <td>CHEVROLET Corvette ZR1</td>\n",
       "      <td>CORVETTE</td>\n",
       "      <td>Corvette ZR1</td>\n",
       "      <td>BodyColorText</td>\n",
       "      <td>grün mét.</td>\n",
       "      <td>e53bd031-6c40-4b4c-8dd7-e69b95f93ff8</td>\n",
       "    </tr>\n",
       "  </tbody>\n",
       "</table>\n",
       "</div>"
      ],
      "text/plain": [
       "         ID     MakeText                   TypeName                           TypeNameFull ModelText              ModelTypeText Attribute Names Attribute Values                             entity_id\n",
       "915    1004  LAMBORGHINI  Gallardo 5.0 V10 Coupé SE  LAMBORGHINI Gallardo 5.0 V10 Coupé SE  GALLARDO  Gallardo 5.0 V10 Coupé SE           Seats                2  b0edbc85-3e45-4939-b4d7-0d83ea7e64de\n",
       "17600   548      FERRARI                   456M GTA                       FERRARI 456M GTA       456                   456M GTA              Hp              442  e1b87b8c-c0fd-4c6b-9f91-f8dd878aaa16\n",
       "9428    428    CHEVROLET               Corvette ZR1                 CHEVROLET Corvette ZR1  CORVETTE               Corvette ZR1   BodyColorText        grün mét.  e53bd031-6c40-4b4c-8dd7-e69b95f93ff8"
      ]
     },
     "execution_count": 5,
     "metadata": {},
     "output_type": "execute_result"
    },
    {
     "name": "stdout",
     "output_type": "stream",
     "text": [
      "<class 'pandas.core.frame.DataFrame'>\n",
      "RangeIndex: 21906 entries, 0 to 21905\n",
      "Data columns (total 9 columns):\n",
      " #   Column            Non-Null Count  Dtype \n",
      "---  ------            --------------  ----- \n",
      " 0   ID                21906 non-null  int64 \n",
      " 1   MakeText          21906 non-null  object\n",
      " 2   TypeName          21602 non-null  object\n",
      " 3   TypeNameFull      21906 non-null  object\n",
      " 4   ModelText         20957 non-null  object\n",
      " 5   ModelTypeText     21906 non-null  object\n",
      " 6   Attribute Names   21906 non-null  object\n",
      " 7   Attribute Values  20542 non-null  object\n",
      " 8   entity_id         21906 non-null  object\n",
      "dtypes: int64(1), object(8)\n",
      "memory usage: 1.5+ MB\n"
     ]
    }
   ],
   "source": [
    "data_raw.sample(3)\n",
    "data_raw.info()"
   ]
  },
  {
   "cell_type": "code",
   "execution_count": 6,
   "metadata": {
    "ExecuteTime": {
     "end_time": "2020-12-11T20:21:37.340384Z",
     "start_time": "2020-12-11T20:21:37.185207Z"
    }
   },
   "outputs": [
    {
     "data": {
      "text/plain": [
       "pandas.core.frame.DataFrame"
      ]
     },
     "execution_count": 6,
     "metadata": {},
     "output_type": "execute_result"
    }
   ],
   "source": [
    "type(data_raw)"
   ]
  },
  {
   "cell_type": "code",
   "execution_count": 7,
   "metadata": {
    "ExecuteTime": {
     "end_time": "2020-12-11T20:21:37.503384Z",
     "start_time": "2020-12-11T20:21:37.343387Z"
    }
   },
   "outputs": [
    {
     "data": {
      "text/html": [
       "<div>\n",
       "<style scoped>\n",
       "    .dataframe tbody tr th:only-of-type {\n",
       "        vertical-align: middle;\n",
       "    }\n",
       "\n",
       "    .dataframe tbody tr th {\n",
       "        vertical-align: top;\n",
       "    }\n",
       "\n",
       "    .dataframe thead th {\n",
       "        text-align: right;\n",
       "    }\n",
       "</style>\n",
       "<table border=\"1\" class=\"dataframe\">\n",
       "  <thead>\n",
       "    <tr style=\"text-align: right;\">\n",
       "      <th></th>\n",
       "      <th>ID</th>\n",
       "      <th>MakeText</th>\n",
       "      <th>TypeName</th>\n",
       "      <th>TypeNameFull</th>\n",
       "      <th>ModelText</th>\n",
       "      <th>ModelTypeText</th>\n",
       "      <th>Attribute Names</th>\n",
       "      <th>Attribute Values</th>\n",
       "      <th>entity_id</th>\n",
       "    </tr>\n",
       "  </thead>\n",
       "  <tbody>\n",
       "    <tr>\n",
       "      <th>0</th>\n",
       "      <td>40</td>\n",
       "      <td>MERCEDES-BENZ</td>\n",
       "      <td>E 55 AMG Avantgarde</td>\n",
       "      <td>MERCEDES-BENZ E 55 AMG Avantgarde</td>\n",
       "      <td>E 55 AMG</td>\n",
       "      <td>E 55 AMG Avantgarde</td>\n",
       "      <td>DriveTypeText</td>\n",
       "      <td>Hinterradantrieb</td>\n",
       "      <td>621d3286-a7ee-4b57-87d0-8927bd1be65f</td>\n",
       "    </tr>\n",
       "    <tr>\n",
       "      <th>1</th>\n",
       "      <td>40</td>\n",
       "      <td>MERCEDES-BENZ</td>\n",
       "      <td>E 55 AMG Avantgarde</td>\n",
       "      <td>MERCEDES-BENZ E 55 AMG Avantgarde</td>\n",
       "      <td>E 55 AMG</td>\n",
       "      <td>E 55 AMG Avantgarde</td>\n",
       "      <td>FirstRegYear</td>\n",
       "      <td>1998</td>\n",
       "      <td>378183ed-2603-453f-9f6d-e416c892e5ea</td>\n",
       "    </tr>\n",
       "    <tr>\n",
       "      <th>2</th>\n",
       "      <td>40</td>\n",
       "      <td>MERCEDES-BENZ</td>\n",
       "      <td>E 55 AMG Avantgarde</td>\n",
       "      <td>MERCEDES-BENZ E 55 AMG Avantgarde</td>\n",
       "      <td>E 55 AMG</td>\n",
       "      <td>E 55 AMG Avantgarde</td>\n",
       "      <td>ConsumptionRatingText</td>\n",
       "      <td>NaN</td>\n",
       "      <td>1f68ae76-d33e-4e4a-8a54-afae92021de9</td>\n",
       "    </tr>\n",
       "    <tr>\n",
       "      <th>3</th>\n",
       "      <td>40</td>\n",
       "      <td>MERCEDES-BENZ</td>\n",
       "      <td>E 55 AMG Avantgarde</td>\n",
       "      <td>MERCEDES-BENZ E 55 AMG Avantgarde</td>\n",
       "      <td>E 55 AMG</td>\n",
       "      <td>E 55 AMG Avantgarde</td>\n",
       "      <td>BodyTypeText</td>\n",
       "      <td>Limousine</td>\n",
       "      <td>244a9daa-c898-4804-94ea-74b054ceb6c6</td>\n",
       "    </tr>\n",
       "    <tr>\n",
       "      <th>4</th>\n",
       "      <td>40</td>\n",
       "      <td>MERCEDES-BENZ</td>\n",
       "      <td>E 55 AMG Avantgarde</td>\n",
       "      <td>MERCEDES-BENZ E 55 AMG Avantgarde</td>\n",
       "      <td>E 55 AMG</td>\n",
       "      <td>E 55 AMG Avantgarde</td>\n",
       "      <td>FirstRegMonth</td>\n",
       "      <td>6</td>\n",
       "      <td>5f7cace3-3d3b-491a-90d1-185422c6fa9b</td>\n",
       "    </tr>\n",
       "    <tr>\n",
       "      <th>5</th>\n",
       "      <td>40</td>\n",
       "      <td>MERCEDES-BENZ</td>\n",
       "      <td>E 55 AMG Avantgarde</td>\n",
       "      <td>MERCEDES-BENZ E 55 AMG Avantgarde</td>\n",
       "      <td>E 55 AMG</td>\n",
       "      <td>E 55 AMG Avantgarde</td>\n",
       "      <td>City</td>\n",
       "      <td>Zuzwil</td>\n",
       "      <td>5f9e49ed-d325-48e7-8ede-0791e44dc768</td>\n",
       "    </tr>\n",
       "    <tr>\n",
       "      <th>6</th>\n",
       "      <td>40</td>\n",
       "      <td>MERCEDES-BENZ</td>\n",
       "      <td>E 55 AMG Avantgarde</td>\n",
       "      <td>MERCEDES-BENZ E 55 AMG Avantgarde</td>\n",
       "      <td>E 55 AMG</td>\n",
       "      <td>E 55 AMG Avantgarde</td>\n",
       "      <td>Seats</td>\n",
       "      <td>5</td>\n",
       "      <td>be670a91-b5b0-43f7-8804-dcc5a49eeb17</td>\n",
       "    </tr>\n",
       "    <tr>\n",
       "      <th>7</th>\n",
       "      <td>40</td>\n",
       "      <td>MERCEDES-BENZ</td>\n",
       "      <td>E 55 AMG Avantgarde</td>\n",
       "      <td>MERCEDES-BENZ E 55 AMG Avantgarde</td>\n",
       "      <td>E 55 AMG</td>\n",
       "      <td>E 55 AMG Avantgarde</td>\n",
       "      <td>Doors</td>\n",
       "      <td>4</td>\n",
       "      <td>85e23771-93c2-4cbf-b24b-4ef078e240cf</td>\n",
       "    </tr>\n",
       "    <tr>\n",
       "      <th>8</th>\n",
       "      <td>40</td>\n",
       "      <td>MERCEDES-BENZ</td>\n",
       "      <td>E 55 AMG Avantgarde</td>\n",
       "      <td>MERCEDES-BENZ E 55 AMG Avantgarde</td>\n",
       "      <td>E 55 AMG</td>\n",
       "      <td>E 55 AMG Avantgarde</td>\n",
       "      <td>BodyColorText</td>\n",
       "      <td>beige mét.</td>\n",
       "      <td>a4330224-143f-413c-ae28-5e308a67f51c</td>\n",
       "    </tr>\n",
       "    <tr>\n",
       "      <th>9</th>\n",
       "      <td>40</td>\n",
       "      <td>MERCEDES-BENZ</td>\n",
       "      <td>E 55 AMG Avantgarde</td>\n",
       "      <td>MERCEDES-BENZ E 55 AMG Avantgarde</td>\n",
       "      <td>E 55 AMG</td>\n",
       "      <td>E 55 AMG Avantgarde</td>\n",
       "      <td>Hp</td>\n",
       "      <td>354</td>\n",
       "      <td>bfb89401-cc8b-4db8-a091-8510b4ae8f1c</td>\n",
       "    </tr>\n",
       "    <tr>\n",
       "      <th>10</th>\n",
       "      <td>40</td>\n",
       "      <td>MERCEDES-BENZ</td>\n",
       "      <td>E 55 AMG Avantgarde</td>\n",
       "      <td>MERCEDES-BENZ E 55 AMG Avantgarde</td>\n",
       "      <td>E 55 AMG</td>\n",
       "      <td>E 55 AMG Avantgarde</td>\n",
       "      <td>InteriorColorText</td>\n",
       "      <td>schwarz</td>\n",
       "      <td>65576380-bc00-4ab2-bd92-bce462e33be3</td>\n",
       "    </tr>\n",
       "    <tr>\n",
       "      <th>11</th>\n",
       "      <td>40</td>\n",
       "      <td>MERCEDES-BENZ</td>\n",
       "      <td>E 55 AMG Avantgarde</td>\n",
       "      <td>MERCEDES-BENZ E 55 AMG Avantgarde</td>\n",
       "      <td>E 55 AMG</td>\n",
       "      <td>E 55 AMG Avantgarde</td>\n",
       "      <td>FuelTypeText</td>\n",
       "      <td>Benzin</td>\n",
       "      <td>323d16c5-8915-4e69-a622-bfa1b270f4cf</td>\n",
       "    </tr>\n",
       "    <tr>\n",
       "      <th>12</th>\n",
       "      <td>40</td>\n",
       "      <td>MERCEDES-BENZ</td>\n",
       "      <td>E 55 AMG Avantgarde</td>\n",
       "      <td>MERCEDES-BENZ E 55 AMG Avantgarde</td>\n",
       "      <td>E 55 AMG</td>\n",
       "      <td>E 55 AMG Avantgarde</td>\n",
       "      <td>Co2EmissionText</td>\n",
       "      <td>301 g/km</td>\n",
       "      <td>e219a14e-7d8d-4a95-bc5c-7c4b251c5bd0</td>\n",
       "    </tr>\n",
       "    <tr>\n",
       "      <th>13</th>\n",
       "      <td>40</td>\n",
       "      <td>MERCEDES-BENZ</td>\n",
       "      <td>E 55 AMG Avantgarde</td>\n",
       "      <td>MERCEDES-BENZ E 55 AMG Avantgarde</td>\n",
       "      <td>E 55 AMG</td>\n",
       "      <td>E 55 AMG Avantgarde</td>\n",
       "      <td>Ccm</td>\n",
       "      <td>5439</td>\n",
       "      <td>6558a93c-ec7f-4f5a-acc6-1db3b208fd66</td>\n",
       "    </tr>\n",
       "    <tr>\n",
       "      <th>14</th>\n",
       "      <td>40</td>\n",
       "      <td>MERCEDES-BENZ</td>\n",
       "      <td>E 55 AMG Avantgarde</td>\n",
       "      <td>MERCEDES-BENZ E 55 AMG Avantgarde</td>\n",
       "      <td>E 55 AMG</td>\n",
       "      <td>E 55 AMG Avantgarde</td>\n",
       "      <td>ConditionTypeText</td>\n",
       "      <td>Occasion</td>\n",
       "      <td>05090aa6-1b21-4388-b68d-3eedb8001955</td>\n",
       "    </tr>\n",
       "    <tr>\n",
       "      <th>15</th>\n",
       "      <td>40</td>\n",
       "      <td>MERCEDES-BENZ</td>\n",
       "      <td>E 55 AMG Avantgarde</td>\n",
       "      <td>MERCEDES-BENZ E 55 AMG Avantgarde</td>\n",
       "      <td>E 55 AMG</td>\n",
       "      <td>E 55 AMG Avantgarde</td>\n",
       "      <td>Properties</td>\n",
       "      <td>\"Ab MFK\"</td>\n",
       "      <td>85b31950-1d23-4be4-b7b6-a41280a7c4cb</td>\n",
       "    </tr>\n",
       "    <tr>\n",
       "      <th>16</th>\n",
       "      <td>40</td>\n",
       "      <td>MERCEDES-BENZ</td>\n",
       "      <td>E 55 AMG Avantgarde</td>\n",
       "      <td>MERCEDES-BENZ E 55 AMG Avantgarde</td>\n",
       "      <td>E 55 AMG</td>\n",
       "      <td>E 55 AMG Avantgarde</td>\n",
       "      <td>ConsumptionTotalText</td>\n",
       "      <td>12.6 l/100km</td>\n",
       "      <td>87c702b5-7f2b-46c5-8adc-bfd60fceae95</td>\n",
       "    </tr>\n",
       "    <tr>\n",
       "      <th>17</th>\n",
       "      <td>40</td>\n",
       "      <td>MERCEDES-BENZ</td>\n",
       "      <td>E 55 AMG Avantgarde</td>\n",
       "      <td>MERCEDES-BENZ E 55 AMG Avantgarde</td>\n",
       "      <td>E 55 AMG</td>\n",
       "      <td>E 55 AMG Avantgarde</td>\n",
       "      <td>TransmissionTypeText</td>\n",
       "      <td>Automat</td>\n",
       "      <td>8131c22f-70da-464b-b2a9-ba3caa090c41</td>\n",
       "    </tr>\n",
       "    <tr>\n",
       "      <th>18</th>\n",
       "      <td>40</td>\n",
       "      <td>MERCEDES-BENZ</td>\n",
       "      <td>E 55 AMG Avantgarde</td>\n",
       "      <td>MERCEDES-BENZ E 55 AMG Avantgarde</td>\n",
       "      <td>E 55 AMG</td>\n",
       "      <td>E 55 AMG Avantgarde</td>\n",
       "      <td>Km</td>\n",
       "      <td>49900</td>\n",
       "      <td>656bf517-0dac-4603-846b-c11b7a00172a</td>\n",
       "    </tr>\n",
       "  </tbody>\n",
       "</table>\n",
       "</div>"
      ],
      "text/plain": [
       "    ID       MakeText             TypeName                       TypeNameFull ModelText        ModelTypeText        Attribute Names  Attribute Values                             entity_id\n",
       "0   40  MERCEDES-BENZ  E 55 AMG Avantgarde  MERCEDES-BENZ E 55 AMG Avantgarde  E 55 AMG  E 55 AMG Avantgarde          DriveTypeText  Hinterradantrieb  621d3286-a7ee-4b57-87d0-8927bd1be65f\n",
       "1   40  MERCEDES-BENZ  E 55 AMG Avantgarde  MERCEDES-BENZ E 55 AMG Avantgarde  E 55 AMG  E 55 AMG Avantgarde           FirstRegYear              1998  378183ed-2603-453f-9f6d-e416c892e5ea\n",
       "2   40  MERCEDES-BENZ  E 55 AMG Avantgarde  MERCEDES-BENZ E 55 AMG Avantgarde  E 55 AMG  E 55 AMG Avantgarde  ConsumptionRatingText               NaN  1f68ae76-d33e-4e4a-8a54-afae92021de9\n",
       "3   40  MERCEDES-BENZ  E 55 AMG Avantgarde  MERCEDES-BENZ E 55 AMG Avantgarde  E 55 AMG  E 55 AMG Avantgarde           BodyTypeText         Limousine  244a9daa-c898-4804-94ea-74b054ceb6c6\n",
       "4   40  MERCEDES-BENZ  E 55 AMG Avantgarde  MERCEDES-BENZ E 55 AMG Avantgarde  E 55 AMG  E 55 AMG Avantgarde          FirstRegMonth                 6  5f7cace3-3d3b-491a-90d1-185422c6fa9b\n",
       "5   40  MERCEDES-BENZ  E 55 AMG Avantgarde  MERCEDES-BENZ E 55 AMG Avantgarde  E 55 AMG  E 55 AMG Avantgarde                   City            Zuzwil  5f9e49ed-d325-48e7-8ede-0791e44dc768\n",
       "6   40  MERCEDES-BENZ  E 55 AMG Avantgarde  MERCEDES-BENZ E 55 AMG Avantgarde  E 55 AMG  E 55 AMG Avantgarde                  Seats                 5  be670a91-b5b0-43f7-8804-dcc5a49eeb17\n",
       "7   40  MERCEDES-BENZ  E 55 AMG Avantgarde  MERCEDES-BENZ E 55 AMG Avantgarde  E 55 AMG  E 55 AMG Avantgarde                  Doors                 4  85e23771-93c2-4cbf-b24b-4ef078e240cf\n",
       "8   40  MERCEDES-BENZ  E 55 AMG Avantgarde  MERCEDES-BENZ E 55 AMG Avantgarde  E 55 AMG  E 55 AMG Avantgarde          BodyColorText        beige mét.  a4330224-143f-413c-ae28-5e308a67f51c\n",
       "9   40  MERCEDES-BENZ  E 55 AMG Avantgarde  MERCEDES-BENZ E 55 AMG Avantgarde  E 55 AMG  E 55 AMG Avantgarde                     Hp               354  bfb89401-cc8b-4db8-a091-8510b4ae8f1c\n",
       "10  40  MERCEDES-BENZ  E 55 AMG Avantgarde  MERCEDES-BENZ E 55 AMG Avantgarde  E 55 AMG  E 55 AMG Avantgarde      InteriorColorText           schwarz  65576380-bc00-4ab2-bd92-bce462e33be3\n",
       "11  40  MERCEDES-BENZ  E 55 AMG Avantgarde  MERCEDES-BENZ E 55 AMG Avantgarde  E 55 AMG  E 55 AMG Avantgarde           FuelTypeText            Benzin  323d16c5-8915-4e69-a622-bfa1b270f4cf\n",
       "12  40  MERCEDES-BENZ  E 55 AMG Avantgarde  MERCEDES-BENZ E 55 AMG Avantgarde  E 55 AMG  E 55 AMG Avantgarde        Co2EmissionText          301 g/km  e219a14e-7d8d-4a95-bc5c-7c4b251c5bd0\n",
       "13  40  MERCEDES-BENZ  E 55 AMG Avantgarde  MERCEDES-BENZ E 55 AMG Avantgarde  E 55 AMG  E 55 AMG Avantgarde                    Ccm              5439  6558a93c-ec7f-4f5a-acc6-1db3b208fd66\n",
       "14  40  MERCEDES-BENZ  E 55 AMG Avantgarde  MERCEDES-BENZ E 55 AMG Avantgarde  E 55 AMG  E 55 AMG Avantgarde      ConditionTypeText          Occasion  05090aa6-1b21-4388-b68d-3eedb8001955\n",
       "15  40  MERCEDES-BENZ  E 55 AMG Avantgarde  MERCEDES-BENZ E 55 AMG Avantgarde  E 55 AMG  E 55 AMG Avantgarde             Properties          \"Ab MFK\"  85b31950-1d23-4be4-b7b6-a41280a7c4cb\n",
       "16  40  MERCEDES-BENZ  E 55 AMG Avantgarde  MERCEDES-BENZ E 55 AMG Avantgarde  E 55 AMG  E 55 AMG Avantgarde   ConsumptionTotalText      12.6 l/100km  87c702b5-7f2b-46c5-8adc-bfd60fceae95\n",
       "17  40  MERCEDES-BENZ  E 55 AMG Avantgarde  MERCEDES-BENZ E 55 AMG Avantgarde  E 55 AMG  E 55 AMG Avantgarde   TransmissionTypeText           Automat  8131c22f-70da-464b-b2a9-ba3caa090c41\n",
       "18  40  MERCEDES-BENZ  E 55 AMG Avantgarde  MERCEDES-BENZ E 55 AMG Avantgarde  E 55 AMG  E 55 AMG Avantgarde                     Km             49900  656bf517-0dac-4603-846b-c11b7a00172a"
      ]
     },
     "execution_count": 7,
     "metadata": {},
     "output_type": "execute_result"
    }
   ],
   "source": [
    "test_car = data_raw[data_raw[\"ID\"] == 40].reset_index(drop=True)\n",
    "test_car"
   ]
  },
  {
   "cell_type": "code",
   "execution_count": 8,
   "metadata": {
    "ExecuteTime": {
     "end_time": "2020-12-11T20:21:37.687201Z",
     "start_time": "2020-12-11T20:21:37.508384Z"
    }
   },
   "outputs": [
    {
     "data": {
      "text/plain": [
       "1153"
      ]
     },
     "execution_count": 8,
     "metadata": {},
     "output_type": "execute_result"
    },
    {
     "data": {
      "text/plain": [
       "18.99913269731136"
      ]
     },
     "execution_count": 8,
     "metadata": {},
     "output_type": "execute_result"
    }
   ],
   "source": [
    "# Make sure all entity_id values are unique\n",
    "assert data_raw[\"entity_id\"].nunique() == len(data_raw)\n",
    "\n",
    "# Count number of unique IDs in data, and number of rows per ID\n",
    "data_raw[\"ID\"].nunique()\n",
    "len(data_raw) / data_raw[\"ID\"].nunique()"
   ]
  },
  {
   "cell_type": "code",
   "execution_count": 9,
   "metadata": {
    "ExecuteTime": {
     "end_time": "2020-12-11T20:21:37.843758Z",
     "start_time": "2020-12-11T20:21:37.691201Z"
    }
   },
   "outputs": [
    {
     "data": {
      "text/plain": [
       "Index(['ID', 'MakeText', 'TypeName', 'TypeNameFull', 'ModelText',\n",
       "       'ModelTypeText', 'Attribute Names', 'Attribute Values', 'entity_id'],\n",
       "      dtype='object')"
      ]
     },
     "execution_count": 9,
     "metadata": {},
     "output_type": "execute_result"
    }
   ],
   "source": [
    "data_raw.columns"
   ]
  },
  {
   "cell_type": "markdown",
   "metadata": {
    "ExecuteTime": {
     "end_time": "2020-12-07T15:12:06.459494Z",
     "start_time": "2020-12-07T15:12:06.254498Z"
    }
   },
   "source": [
    "**Note:** \n",
    "- Seems we have 1153 cars in the dataset, but they do not all have 19 rows like the example car above (one seems to have 18 only ...)\n",
    "- The Attribute Names / Values have to be pivoted so we have all relevant car info on one row (`entity_id` can be discarded)\n",
    "- `ModelText` has NaN - ATTENTION - without handling, these rows will be lost during the pivot!"
   ]
  },
  {
   "cell_type": "code",
   "execution_count": 10,
   "metadata": {
    "ExecuteTime": {
     "end_time": "2020-12-11T20:21:38.063752Z",
     "start_time": "2020-12-11T20:21:37.847767Z"
    }
   },
   "outputs": [
    {
     "data": {
      "text/html": [
       "<div>\n",
       "<style scoped>\n",
       "    .dataframe tbody tr th:only-of-type {\n",
       "        vertical-align: middle;\n",
       "    }\n",
       "\n",
       "    .dataframe tbody tr th {\n",
       "        vertical-align: top;\n",
       "    }\n",
       "\n",
       "    .dataframe thead th {\n",
       "        text-align: right;\n",
       "    }\n",
       "</style>\n",
       "<table border=\"1\" class=\"dataframe\">\n",
       "  <thead>\n",
       "    <tr style=\"text-align: right;\">\n",
       "      <th></th>\n",
       "      <th>ID</th>\n",
       "      <th>MakeText</th>\n",
       "      <th>TypeName</th>\n",
       "      <th>TypeNameFull</th>\n",
       "      <th>ModelText</th>\n",
       "      <th>ModelTypeText</th>\n",
       "      <th>Attribute Names</th>\n",
       "      <th>Attribute Values</th>\n",
       "      <th>entity_id</th>\n",
       "    </tr>\n",
       "  </thead>\n",
       "  <tbody>\n",
       "    <tr>\n",
       "      <th>2337</th>\n",
       "      <td>824</td>\n",
       "      <td>HARLEY-DAVIDSON</td>\n",
       "      <td>HPU Hurricane TC</td>\n",
       "      <td>HARLEY-DAVIDSON HPU Hurricane TC</td>\n",
       "      <td>None</td>\n",
       "      <td>HPU Hurricane TC</td>\n",
       "      <td>Km</td>\n",
       "      <td>100</td>\n",
       "      <td>ba00d8eb-5025-47e0-887e-9750b05bb025</td>\n",
       "    </tr>\n",
       "    <tr>\n",
       "      <th>3325</th>\n",
       "      <td>824</td>\n",
       "      <td>HARLEY-DAVIDSON</td>\n",
       "      <td>HPU Hurricane TC</td>\n",
       "      <td>HARLEY-DAVIDSON HPU Hurricane TC</td>\n",
       "      <td>None</td>\n",
       "      <td>HPU Hurricane TC</td>\n",
       "      <td>Properties</td>\n",
       "      <td>NaN</td>\n",
       "      <td>6dea6b19-6b8f-4fa1-9847-36091f6757aa</td>\n",
       "    </tr>\n",
       "  </tbody>\n",
       "</table>\n",
       "</div>"
      ],
      "text/plain": [
       "       ID         MakeText          TypeName                      TypeNameFull ModelText     ModelTypeText Attribute Names Attribute Values                             entity_id\n",
       "2337  824  HARLEY-DAVIDSON  HPU Hurricane TC  HARLEY-DAVIDSON HPU Hurricane TC      None  HPU Hurricane TC              Km              100  ba00d8eb-5025-47e0-887e-9750b05bb025\n",
       "3325  824  HARLEY-DAVIDSON  HPU Hurricane TC  HARLEY-DAVIDSON HPU Hurricane TC      None  HPU Hurricane TC      Properties              NaN  6dea6b19-6b8f-4fa1-9847-36091f6757aa"
      ]
     },
     "metadata": {},
     "output_type": "display_data"
    }
   ],
   "source": [
    "# Check the 'car' with 18 rows only - ha, it's a motorbike ... ;-)\n",
    "\n",
    "for _, df_chunk in data_raw.groupby(\"ID\"):\n",
    "    if len(df_chunk) != 19:\n",
    "        display(df_chunk.head(2))"
   ]
  },
  {
   "cell_type": "code",
   "execution_count": 11,
   "metadata": {
    "ExecuteTime": {
     "end_time": "2020-12-11T20:21:38.202753Z",
     "start_time": "2020-12-11T20:21:38.068758Z"
    }
   },
   "outputs": [
    {
     "data": {
      "text/plain": [
       "50"
      ]
     },
     "execution_count": 11,
     "metadata": {},
     "output_type": "execute_result"
    }
   ],
   "source": [
    "data_raw[data_raw[\"ModelText\"].isnull()][\"ID\"].nunique()"
   ]
  },
  {
   "cell_type": "markdown",
   "metadata": {},
   "source": [
    "## Restructure Data (Tidy Format)"
   ]
  },
  {
   "cell_type": "code",
   "execution_count": 12,
   "metadata": {
    "ExecuteTime": {
     "end_time": "2020-12-11T20:21:38.351768Z",
     "start_time": "2020-12-11T20:21:38.204754Z"
    }
   },
   "outputs": [],
   "source": [
    "def pivot_attributes(df):\n",
    "    # Make sure you have no missing values in the Index columns!\n",
    "    df=df.fillna(\"xxx\").copy()\n",
    "    df = df.pivot_table(\n",
    "        index=[\"ID\", \"MakeText\", \"TypeName\", \"TypeNameFull\", \"ModelText\", \"ModelTypeText\"], \n",
    "        columns=\"Attribute Names\", values=\"Attribute Values\", aggfunc=\"max\",\n",
    "    ).reset_index()\n",
    "    df.columns.name = None\n",
    "    df = df.replace(\"xxx\", np.nan)\n",
    "    return df"
   ]
  },
  {
   "cell_type": "code",
   "execution_count": 13,
   "metadata": {
    "ExecuteTime": {
     "end_time": "2020-12-11T20:21:38.551774Z",
     "start_time": "2020-12-11T20:21:38.354757Z"
    }
   },
   "outputs": [
    {
     "data": {
      "text/html": [
       "<div>\n",
       "<style scoped>\n",
       "    .dataframe tbody tr th:only-of-type {\n",
       "        vertical-align: middle;\n",
       "    }\n",
       "\n",
       "    .dataframe tbody tr th {\n",
       "        vertical-align: top;\n",
       "    }\n",
       "\n",
       "    .dataframe thead th {\n",
       "        text-align: right;\n",
       "    }\n",
       "</style>\n",
       "<table border=\"1\" class=\"dataframe\">\n",
       "  <thead>\n",
       "    <tr style=\"text-align: right;\">\n",
       "      <th></th>\n",
       "      <th>ID</th>\n",
       "      <th>MakeText</th>\n",
       "      <th>TypeName</th>\n",
       "      <th>TypeNameFull</th>\n",
       "      <th>ModelText</th>\n",
       "      <th>ModelTypeText</th>\n",
       "      <th>BodyColorText</th>\n",
       "      <th>BodyTypeText</th>\n",
       "      <th>Ccm</th>\n",
       "      <th>City</th>\n",
       "      <th>Co2EmissionText</th>\n",
       "      <th>ConditionTypeText</th>\n",
       "      <th>ConsumptionRatingText</th>\n",
       "      <th>ConsumptionTotalText</th>\n",
       "      <th>Doors</th>\n",
       "      <th>DriveTypeText</th>\n",
       "      <th>FirstRegMonth</th>\n",
       "      <th>FirstRegYear</th>\n",
       "      <th>FuelTypeText</th>\n",
       "      <th>Hp</th>\n",
       "      <th>InteriorColorText</th>\n",
       "      <th>Km</th>\n",
       "      <th>Properties</th>\n",
       "      <th>Seats</th>\n",
       "      <th>TransmissionTypeText</th>\n",
       "    </tr>\n",
       "  </thead>\n",
       "  <tbody>\n",
       "    <tr>\n",
       "      <th>0</th>\n",
       "      <td>40</td>\n",
       "      <td>MERCEDES-BENZ</td>\n",
       "      <td>E 55 AMG Avantgarde</td>\n",
       "      <td>MERCEDES-BENZ E 55 AMG Avantgarde</td>\n",
       "      <td>E 55 AMG</td>\n",
       "      <td>E 55 AMG Avantgarde</td>\n",
       "      <td>beige mét.</td>\n",
       "      <td>Limousine</td>\n",
       "      <td>5439</td>\n",
       "      <td>Zuzwil</td>\n",
       "      <td>301 g/km</td>\n",
       "      <td>Occasion</td>\n",
       "      <td>nan</td>\n",
       "      <td>12.6 l/100km</td>\n",
       "      <td>4</td>\n",
       "      <td>Hinterradantrieb</td>\n",
       "      <td>6</td>\n",
       "      <td>1998</td>\n",
       "      <td>Benzin</td>\n",
       "      <td>354</td>\n",
       "      <td>schwarz</td>\n",
       "      <td>49900</td>\n",
       "      <td>\"Ab MFK\"</td>\n",
       "      <td>5</td>\n",
       "      <td>Automat</td>\n",
       "    </tr>\n",
       "  </tbody>\n",
       "</table>\n",
       "</div>"
      ],
      "text/plain": [
       "   ID       MakeText             TypeName                       TypeNameFull ModelText        ModelTypeText BodyColorText BodyTypeText   Ccm    City Co2EmissionText ConditionTypeText  ConsumptionRatingText ConsumptionTotalText Doors     DriveTypeText FirstRegMonth FirstRegYear FuelTypeText   Hp InteriorColorText     Km Properties Seats TransmissionTypeText\n",
       "0  40  MERCEDES-BENZ  E 55 AMG Avantgarde  MERCEDES-BENZ E 55 AMG Avantgarde  E 55 AMG  E 55 AMG Avantgarde    beige mét.    Limousine  5439  Zuzwil        301 g/km          Occasion                    nan         12.6 l/100km     4  Hinterradantrieb             6         1998       Benzin  354           schwarz  49900   \"Ab MFK\"     5              Automat"
      ]
     },
     "execution_count": 13,
     "metadata": {},
     "output_type": "execute_result"
    }
   ],
   "source": [
    "test_pivot = pivot_attributes(test_car)\n",
    "test_pivot"
   ]
  },
  {
   "cell_type": "code",
   "execution_count": 14,
   "metadata": {
    "ExecuteTime": {
     "end_time": "2020-12-11T20:21:38.704754Z",
     "start_time": "2020-12-11T20:21:38.554757Z"
    },
    "scrolled": false
   },
   "outputs": [
    {
     "name": "stdout",
     "output_type": "stream",
     "text": [
      "<class 'pandas.core.frame.DataFrame'>\n",
      "RangeIndex: 1 entries, 0 to 0\n",
      "Data columns (total 25 columns):\n",
      " #   Column                 Non-Null Count  Dtype  \n",
      "---  ------                 --------------  -----  \n",
      " 0   ID                     1 non-null      int64  \n",
      " 1   MakeText               1 non-null      object \n",
      " 2   TypeName               1 non-null      object \n",
      " 3   TypeNameFull           1 non-null      object \n",
      " 4   ModelText              1 non-null      object \n",
      " 5   ModelTypeText          1 non-null      object \n",
      " 6   BodyColorText          1 non-null      object \n",
      " 7   BodyTypeText           1 non-null      object \n",
      " 8   Ccm                    1 non-null      object \n",
      " 9   City                   1 non-null      object \n",
      " 10  Co2EmissionText        1 non-null      object \n",
      " 11  ConditionTypeText      1 non-null      object \n",
      " 12  ConsumptionRatingText  0 non-null      float64\n",
      " 13  ConsumptionTotalText   1 non-null      object \n",
      " 14  Doors                  1 non-null      object \n",
      " 15  DriveTypeText          1 non-null      object \n",
      " 16  FirstRegMonth          1 non-null      object \n",
      " 17  FirstRegYear           1 non-null      object \n",
      " 18  FuelTypeText           1 non-null      object \n",
      " 19  Hp                     1 non-null      object \n",
      " 20  InteriorColorText      1 non-null      object \n",
      " 21  Km                     1 non-null      object \n",
      " 22  Properties             1 non-null      object \n",
      " 23  Seats                  1 non-null      object \n",
      " 24  TransmissionTypeText   1 non-null      object \n",
      "dtypes: float64(1), int64(1), object(23)\n",
      "memory usage: 328.0+ bytes\n"
     ]
    }
   ],
   "source": [
    "test_pivot.info()"
   ]
  },
  {
   "cell_type": "code",
   "execution_count": 15,
   "metadata": {
    "ExecuteTime": {
     "end_time": "2020-12-11T20:21:41.555926Z",
     "start_time": "2020-12-11T20:21:38.706753Z"
    }
   },
   "outputs": [],
   "source": [
    "data_pivot = pivot_attributes(data_raw)\n",
    "assert data_pivot[\"ID\"].nunique() == data_raw[\"ID\"].nunique()"
   ]
  },
  {
   "cell_type": "code",
   "execution_count": 16,
   "metadata": {
    "ExecuteTime": {
     "end_time": "2020-12-11T20:21:41.714896Z",
     "start_time": "2020-12-11T20:21:41.559896Z"
    }
   },
   "outputs": [
    {
     "data": {
      "text/plain": [
       "1153"
      ]
     },
     "execution_count": 16,
     "metadata": {},
     "output_type": "execute_result"
    },
    {
     "data": {
      "text/html": [
       "<div>\n",
       "<style scoped>\n",
       "    .dataframe tbody tr th:only-of-type {\n",
       "        vertical-align: middle;\n",
       "    }\n",
       "\n",
       "    .dataframe tbody tr th {\n",
       "        vertical-align: top;\n",
       "    }\n",
       "\n",
       "    .dataframe thead th {\n",
       "        text-align: right;\n",
       "    }\n",
       "</style>\n",
       "<table border=\"1\" class=\"dataframe\">\n",
       "  <thead>\n",
       "    <tr style=\"text-align: right;\">\n",
       "      <th></th>\n",
       "      <th>ID</th>\n",
       "      <th>MakeText</th>\n",
       "      <th>TypeName</th>\n",
       "      <th>TypeNameFull</th>\n",
       "      <th>ModelText</th>\n",
       "      <th>ModelTypeText</th>\n",
       "      <th>BodyColorText</th>\n",
       "      <th>BodyTypeText</th>\n",
       "      <th>Ccm</th>\n",
       "      <th>City</th>\n",
       "      <th>Co2EmissionText</th>\n",
       "      <th>ConditionTypeText</th>\n",
       "      <th>ConsumptionRatingText</th>\n",
       "      <th>ConsumptionTotalText</th>\n",
       "      <th>Doors</th>\n",
       "      <th>DriveTypeText</th>\n",
       "      <th>FirstRegMonth</th>\n",
       "      <th>FirstRegYear</th>\n",
       "      <th>FuelTypeText</th>\n",
       "      <th>Hp</th>\n",
       "      <th>InteriorColorText</th>\n",
       "      <th>Km</th>\n",
       "      <th>Properties</th>\n",
       "      <th>Seats</th>\n",
       "      <th>TransmissionTypeText</th>\n",
       "    </tr>\n",
       "  </thead>\n",
       "  <tbody>\n",
       "    <tr>\n",
       "      <th>899</th>\n",
       "      <td>900</td>\n",
       "      <td>MERCEDES-BENZ</td>\n",
       "      <td>CLK 320 Sport</td>\n",
       "      <td>MERCEDES-BENZ CLK 320 Sport</td>\n",
       "      <td>CLK 320</td>\n",
       "      <td>CLK 320 Sport</td>\n",
       "      <td>silber mét.</td>\n",
       "      <td>Coupé</td>\n",
       "      <td>3199</td>\n",
       "      <td>Zuzwil</td>\n",
       "      <td>242 g/km</td>\n",
       "      <td>Occasion</td>\n",
       "      <td>G</td>\n",
       "      <td>10.1 l/100km</td>\n",
       "      <td>2</td>\n",
       "      <td>Hinterradantrieb</td>\n",
       "      <td>6</td>\n",
       "      <td>1998</td>\n",
       "      <td>Benzin</td>\n",
       "      <td>218</td>\n",
       "      <td>blau</td>\n",
       "      <td>61000</td>\n",
       "      <td>\"Ab MFK\"</td>\n",
       "      <td>4</td>\n",
       "      <td>Automat</td>\n",
       "    </tr>\n",
       "    <tr>\n",
       "      <th>37</th>\n",
       "      <td>38</td>\n",
       "      <td>PORSCHE</td>\n",
       "      <td>Cayenne Turbo</td>\n",
       "      <td>PORSCHE Cayenne Turbo</td>\n",
       "      <td>CAYENNE</td>\n",
       "      <td>Cayenne Turbo</td>\n",
       "      <td>anthrazit mét.</td>\n",
       "      <td>SUV / Geländewagen</td>\n",
       "      <td>4806</td>\n",
       "      <td>Zuzwil</td>\n",
       "      <td>358 g/km</td>\n",
       "      <td>Occasion</td>\n",
       "      <td>G</td>\n",
       "      <td>14.9 l/100km</td>\n",
       "      <td>5</td>\n",
       "      <td>Allrad</td>\n",
       "      <td>3</td>\n",
       "      <td>2007</td>\n",
       "      <td>Benzin</td>\n",
       "      <td>540</td>\n",
       "      <td>schwarz</td>\n",
       "      <td>36700</td>\n",
       "      <td>\"Ab MFK\"</td>\n",
       "      <td>5</td>\n",
       "      <td>Automat sequentiell</td>\n",
       "    </tr>\n",
       "    <tr>\n",
       "      <th>930</th>\n",
       "      <td>931</td>\n",
       "      <td>MERCEDES-BENZ</td>\n",
       "      <td>300SL W198</td>\n",
       "      <td>MERCEDES-BENZ 300 300SL W198</td>\n",
       "      <td>300</td>\n",
       "      <td>300 300SL W198</td>\n",
       "      <td>silber mét.</td>\n",
       "      <td>Coupé</td>\n",
       "      <td>2995</td>\n",
       "      <td>Sursee</td>\n",
       "      <td>NaN</td>\n",
       "      <td>Occasion</td>\n",
       "      <td>NaN</td>\n",
       "      <td>NaN</td>\n",
       "      <td>2</td>\n",
       "      <td>Hinterradantrieb</td>\n",
       "      <td>5</td>\n",
       "      <td>1955</td>\n",
       "      <td>NaN</td>\n",
       "      <td>215</td>\n",
       "      <td>rot</td>\n",
       "      <td>5000</td>\n",
       "      <td>NaN</td>\n",
       "      <td>0</td>\n",
       "      <td>Schaltgetriebe</td>\n",
       "    </tr>\n",
       "  </tbody>\n",
       "</table>\n",
       "</div>"
      ],
      "text/plain": [
       "      ID       MakeText       TypeName                  TypeNameFull ModelText   ModelTypeText   BodyColorText        BodyTypeText   Ccm    City Co2EmissionText ConditionTypeText ConsumptionRatingText ConsumptionTotalText Doors     DriveTypeText FirstRegMonth FirstRegYear FuelTypeText   Hp InteriorColorText     Km Properties Seats TransmissionTypeText\n",
       "899  900  MERCEDES-BENZ  CLK 320 Sport   MERCEDES-BENZ CLK 320 Sport   CLK 320   CLK 320 Sport     silber mét.               Coupé  3199  Zuzwil        242 g/km          Occasion                     G         10.1 l/100km     2  Hinterradantrieb             6         1998       Benzin  218              blau  61000   \"Ab MFK\"     4              Automat\n",
       "37    38        PORSCHE  Cayenne Turbo         PORSCHE Cayenne Turbo   CAYENNE   Cayenne Turbo  anthrazit mét.  SUV / Geländewagen  4806  Zuzwil        358 g/km          Occasion                     G         14.9 l/100km     5            Allrad             3         2007       Benzin  540           schwarz  36700   \"Ab MFK\"     5  Automat sequentiell\n",
       "930  931  MERCEDES-BENZ     300SL W198  MERCEDES-BENZ 300 300SL W198       300  300 300SL W198     silber mét.               Coupé  2995  Sursee             NaN          Occasion                   NaN                  NaN     2  Hinterradantrieb             5         1955          NaN  215               rot   5000        NaN     0       Schaltgetriebe"
      ]
     },
     "execution_count": 16,
     "metadata": {},
     "output_type": "execute_result"
    }
   ],
   "source": [
    "len(data_pivot)\n",
    "data_pivot.sample(3)"
   ]
  },
  {
   "cell_type": "code",
   "execution_count": 17,
   "metadata": {
    "ExecuteTime": {
     "end_time": "2020-12-11T20:21:41.855914Z",
     "start_time": "2020-12-11T20:21:41.717896Z"
    }
   },
   "outputs": [
    {
     "name": "stdout",
     "output_type": "stream",
     "text": [
      "<class 'pandas.core.frame.DataFrame'>\n",
      "RangeIndex: 1153 entries, 0 to 1152\n",
      "Data columns (total 25 columns):\n",
      " #   Column                 Non-Null Count  Dtype \n",
      "---  ------                 --------------  ----- \n",
      " 0   ID                     1153 non-null   int64 \n",
      " 1   MakeText               1153 non-null   object\n",
      " 2   TypeName               1137 non-null   object\n",
      " 3   TypeNameFull           1153 non-null   object\n",
      " 4   ModelText              1103 non-null   object\n",
      " 5   ModelTypeText          1153 non-null   object\n",
      " 6   BodyColorText          1153 non-null   object\n",
      " 7   BodyTypeText           1152 non-null   object\n",
      " 8   Ccm                    1153 non-null   object\n",
      " 9   City                   1153 non-null   object\n",
      " 10  Co2EmissionText        812 non-null    object\n",
      " 11  ConditionTypeText      1153 non-null   object\n",
      " 12  ConsumptionRatingText  652 non-null    object\n",
      " 13  ConsumptionTotalText   850 non-null    object\n",
      " 14  Doors                  1153 non-null   object\n",
      " 15  DriveTypeText          1118 non-null   object\n",
      " 16  FirstRegMonth          1153 non-null   object\n",
      " 17  FirstRegYear           1153 non-null   object\n",
      " 18  FuelTypeText           1135 non-null   object\n",
      " 19  Hp                     1153 non-null   object\n",
      " 20  InteriorColorText      1084 non-null   object\n",
      " 21  Km                     1153 non-null   object\n",
      " 22  Properties             1072 non-null   object\n",
      " 23  Seats                  1153 non-null   object\n",
      " 24  TransmissionTypeText   1137 non-null   object\n",
      "dtypes: int64(1), object(24)\n",
      "memory usage: 225.3+ KB\n"
     ]
    }
   ],
   "source": [
    "data_pivot.info()"
   ]
  },
  {
   "cell_type": "markdown",
   "metadata": {},
   "source": [
    "## Normalize Data"
   ]
  },
  {
   "cell_type": "code",
   "execution_count": 18,
   "metadata": {
    "ExecuteTime": {
     "end_time": "2020-12-11T20:21:41.975894Z",
     "start_time": "2020-12-11T20:21:41.858896Z"
    }
   },
   "outputs": [
    {
     "data": {
      "text/html": [
       "<div>\n",
       "<style scoped>\n",
       "    .dataframe tbody tr th:only-of-type {\n",
       "        vertical-align: middle;\n",
       "    }\n",
       "\n",
       "    .dataframe tbody tr th {\n",
       "        vertical-align: top;\n",
       "    }\n",
       "\n",
       "    .dataframe thead th {\n",
       "        text-align: right;\n",
       "    }\n",
       "</style>\n",
       "<table border=\"1\" class=\"dataframe\">\n",
       "  <thead>\n",
       "    <tr style=\"text-align: right;\">\n",
       "      <th></th>\n",
       "      <th>ID</th>\n",
       "      <th>MakeText</th>\n",
       "      <th>TypeName</th>\n",
       "      <th>TypeNameFull</th>\n",
       "      <th>ModelText</th>\n",
       "      <th>ModelTypeText</th>\n",
       "      <th>BodyColorText</th>\n",
       "      <th>BodyTypeText</th>\n",
       "      <th>Ccm</th>\n",
       "      <th>City</th>\n",
       "      <th>Co2EmissionText</th>\n",
       "      <th>ConditionTypeText</th>\n",
       "      <th>ConsumptionRatingText</th>\n",
       "      <th>ConsumptionTotalText</th>\n",
       "      <th>Doors</th>\n",
       "      <th>DriveTypeText</th>\n",
       "      <th>FirstRegMonth</th>\n",
       "      <th>FirstRegYear</th>\n",
       "      <th>FuelTypeText</th>\n",
       "      <th>Hp</th>\n",
       "      <th>InteriorColorText</th>\n",
       "      <th>Km</th>\n",
       "      <th>Properties</th>\n",
       "      <th>Seats</th>\n",
       "      <th>TransmissionTypeText</th>\n",
       "    </tr>\n",
       "  </thead>\n",
       "  <tbody>\n",
       "    <tr>\n",
       "      <th>0</th>\n",
       "      <td>40</td>\n",
       "      <td>MERCEDES-BENZ</td>\n",
       "      <td>E 55 AMG Avantgarde</td>\n",
       "      <td>MERCEDES-BENZ E 55 AMG Avantgarde</td>\n",
       "      <td>E 55 AMG</td>\n",
       "      <td>E 55 AMG Avantgarde</td>\n",
       "      <td>beige mét.</td>\n",
       "      <td>Limousine</td>\n",
       "      <td>5439</td>\n",
       "      <td>Zuzwil</td>\n",
       "      <td>301 g/km</td>\n",
       "      <td>Occasion</td>\n",
       "      <td>nan</td>\n",
       "      <td>12.6 l/100km</td>\n",
       "      <td>4</td>\n",
       "      <td>Hinterradantrieb</td>\n",
       "      <td>6</td>\n",
       "      <td>1998</td>\n",
       "      <td>Benzin</td>\n",
       "      <td>354</td>\n",
       "      <td>schwarz</td>\n",
       "      <td>49900</td>\n",
       "      <td>\"Ab MFK\"</td>\n",
       "      <td>5</td>\n",
       "      <td>Automat</td>\n",
       "    </tr>\n",
       "  </tbody>\n",
       "</table>\n",
       "</div>"
      ],
      "text/plain": [
       "   ID       MakeText             TypeName                       TypeNameFull ModelText        ModelTypeText BodyColorText BodyTypeText   Ccm    City Co2EmissionText ConditionTypeText  ConsumptionRatingText ConsumptionTotalText Doors     DriveTypeText FirstRegMonth FirstRegYear FuelTypeText   Hp InteriorColorText     Km Properties Seats TransmissionTypeText\n",
       "0  40  MERCEDES-BENZ  E 55 AMG Avantgarde  MERCEDES-BENZ E 55 AMG Avantgarde  E 55 AMG  E 55 AMG Avantgarde    beige mét.    Limousine  5439  Zuzwil        301 g/km          Occasion                    nan         12.6 l/100km     4  Hinterradantrieb             6         1998       Benzin  354           schwarz  49900   \"Ab MFK\"     5              Automat"
      ]
     },
     "execution_count": 18,
     "metadata": {},
     "output_type": "execute_result"
    }
   ],
   "source": [
    "test_pivot"
   ]
  },
  {
   "cell_type": "code",
   "execution_count": 19,
   "metadata": {
    "ExecuteTime": {
     "end_time": "2020-12-11T20:21:45.016975Z",
     "start_time": "2020-12-11T20:21:41.977894Z"
    }
   },
   "outputs": [
    {
     "data": {
      "text/plain": [
       "{'carType': dtype('O'),\n",
       " 'color': dtype('O'),\n",
       " 'condition': dtype('O'),\n",
       " 'currency': dtype('O'),\n",
       " 'drive': dtype('O'),\n",
       " 'city': dtype('O'),\n",
       " 'country': dtype('O'),\n",
       " 'make': dtype('O'),\n",
       " 'manufacture_year': dtype('int64'),\n",
       " 'mileage': dtype('float64'),\n",
       " 'mileage_unit': dtype('O'),\n",
       " 'model': dtype('O'),\n",
       " 'model_variant': dtype('O'),\n",
       " 'price_on_request': dtype('bool'),\n",
       " 'type': dtype('O'),\n",
       " 'zip': dtype('O'),\n",
       " 'manufacture_month': dtype('float64'),\n",
       " 'fuel_consumption_unit': dtype('O')}"
      ]
     },
     "execution_count": 19,
     "metadata": {},
     "output_type": "execute_result"
    }
   ],
   "source": [
    "# Create a target_structure dictionary\n",
    "\n",
    "target_data = pd.read_excel(\"data/target_data.xlsx\", engine=\"openpyxl\")\n",
    "target_structure = dict(zip(target_data.columns, target_data.dtypes.values))\n",
    "target_structure"
   ]
  },
  {
   "cell_type": "code",
   "execution_count": 20,
   "metadata": {
    "ExecuteTime": {
     "end_time": "2020-12-11T20:21:45.136957Z",
     "start_time": "2020-12-11T20:21:45.019946Z"
    }
   },
   "outputs": [],
   "source": [
    "# Create a mapping_dict (manually)\n",
    "\n",
    "MAIN_MAPPER = {\n",
    "    \"carType\": \"BodyTypeText\",  # needs mapping of values\n",
    "    \"color\": \"BodyColorText_mapped\",  # needs mapping of values, we lose the \"métalisé\" information though - MAPPED\n",
    "    \"condition\": \"ConditionTypeText\",  # needs mapping, tricky see illustrations\n",
    "    \"currency\": None,  # has to be determined by seller / inferred from country of listing\n",
    "    \"drive\": \"DriveTypeText\",  # needs mapping of values\n",
    "    \"city\": \"City\",  # seems ok\n",
    "    \"country\": None,  # missing, should be entered by seller / infered from seller address\n",
    "    \"make\": \"MakeText_mapped\",  # needs mapping of values (e.g. UPPER vs. Upper) - MAPPED\n",
    "    \"manufacture_year\": \"FirstRegYear\",  # WARNING: these date do not mean the same. Check with seller\n",
    "    \"mileage\": \"Km\", # seems ok\n",
    "    \"mileage_unit\": None,  # can be inferred from seller / country of listing, in this example case it is easy\n",
    "    \"model\": \"ModelText\",  # seems ok\n",
    "    \"model_variant\": \"ModelTypeText\",  # in the target data ofte some \"Freitext Ausstattungsmerkmale\" are concatenated\n",
    "    \"price_on_request\": None,  # must be specified by seller\n",
    "    \"type\": None,  # do we want to allow other values than \"car\"? We have only one motorbike in the new dataset ...\n",
    "    \"zip\": None,  # missing, should be entered by seller / infered from seller address\n",
    "    \"manufacture_month\": \"FirstRegMonth\",  # see again the WARNING from above\n",
    "    \"fuel_consumption_unit\": \"ConsumptionTotalText\"  # can be inferred, maybe use a little regex\n",
    "}"
   ]
  },
  {
   "cell_type": "markdown",
   "metadata": {},
   "source": [
    "Some general problems:\n",
    "    - NULL values\n",
    "    - NO ID in target data"
   ]
  },
  {
   "cell_type": "markdown",
   "metadata": {
    "ExecuteTime": {
     "end_time": "2020-12-09T20:12:00.369167Z",
     "start_time": "2020-12-09T20:12:00.186168Z"
    }
   },
   "source": [
    "### Map Colors"
   ]
  },
  {
   "cell_type": "code",
   "execution_count": 53,
   "metadata": {
    "ExecuteTime": {
     "end_time": "2020-12-11T20:25:05.136436Z",
     "start_time": "2020-12-11T20:25:04.985411Z"
    }
   },
   "outputs": [
    {
     "data": {
      "text/plain": [
       "['White',\n",
       " 'Other',\n",
       " 'Blue',\n",
       " 'Black',\n",
       " 'Silver',\n",
       " 'Brown',\n",
       " 'Red',\n",
       " 'Gray',\n",
       " 'Green',\n",
       " 'Beige',\n",
       " 'Yellow',\n",
       " 'Orange',\n",
       " 'Purple',\n",
       " 'Gold']"
      ]
     },
     "execution_count": 53,
     "metadata": {},
     "output_type": "execute_result"
    }
   ],
   "source": [
    "target_data[\"color\"].unique().tolist()"
   ]
  },
  {
   "cell_type": "code",
   "execution_count": 54,
   "metadata": {
    "ExecuteTime": {
     "end_time": "2020-12-11T20:25:13.971271Z",
     "start_time": "2020-12-11T20:25:13.838106Z"
    }
   },
   "outputs": [
    {
     "data": {
      "text/plain": [
       "['anthrazit',\n",
       " 'anthrazit mét.',\n",
       " 'beige',\n",
       " 'beige mét.',\n",
       " 'blau',\n",
       " 'blau mét.',\n",
       " 'bordeaux',\n",
       " 'bordeaux mét.',\n",
       " 'braun',\n",
       " 'braun mét.',\n",
       " 'gelb',\n",
       " 'gelb mét.',\n",
       " 'gold',\n",
       " 'gold mét.',\n",
       " 'grau',\n",
       " 'grau mét.',\n",
       " 'grün',\n",
       " 'grün mét.',\n",
       " 'orange',\n",
       " 'orange mét.',\n",
       " 'rot',\n",
       " 'rot mét.',\n",
       " 'schwarz',\n",
       " 'schwarz mét.',\n",
       " 'silber',\n",
       " 'silber mét.',\n",
       " 'violett mét.',\n",
       " 'weiss',\n",
       " 'weiss mét.']"
      ]
     },
     "execution_count": 54,
     "metadata": {},
     "output_type": "execute_result"
    }
   ],
   "source": [
    "data_pivot[\"BodyColorText\"].unique().tolist()"
   ]
  },
  {
   "cell_type": "code",
   "execution_count": 23,
   "metadata": {
    "ExecuteTime": {
     "end_time": "2020-12-11T20:21:45.490943Z",
     "start_time": "2020-12-11T20:21:45.376944Z"
    }
   },
   "outputs": [],
   "source": [
    "# Create a mapping_dict (manually)\n",
    "\n",
    "COLOR_MAPPER = {\n",
    "     'weiss': 'White',\n",
    "     'blau': 'Blue',\n",
    "     'schwarz': 'Black',\n",
    "     'silber': 'Silver',\n",
    "     'braun': 'Brown',\n",
    "     'rot': 'Red',\n",
    "     'anthrazit': 'Gray',\n",
    "     'grau': 'Gray',\n",
    "     'grün': 'Green',\n",
    "     'beige': 'Beige',\n",
    "     'gelb': 'Yellow',\n",
    "     'orange': 'Orange',\n",
    "     'bordeaux': 'Purple',\n",
    "     'gold': 'Gold'}"
   ]
  },
  {
   "cell_type": "code",
   "execution_count": 26,
   "metadata": {
    "ExecuteTime": {
     "end_time": "2020-12-11T20:22:11.783324Z",
     "start_time": "2020-12-11T20:22:11.654305Z"
    }
   },
   "outputs": [],
   "source": [
    "def map_colors(df, color_mapper=COLOR_MAPPER):\n",
    "    \"\"\"Map the colors using a mapping dictionary. If a color\n",
    "    is not found in the dict, \"Other\" is used as default value.\n",
    "    Note: We lose the `mét.` information in this process.\n",
    "    \"\"\"\n",
    "    df[\"BodyColorText_mapped\"] = (\n",
    "        df[\"BodyColorText\"].str.split(\" \")\n",
    "        .str.get(0).map(color_mapper).fillna(\"Other\")\n",
    "    )\n",
    "    return df\n",
    "\n",
    "\n",
    "def check_color_mapping(df):\n",
    "    \"\"\"Log the result of the color mapping. Warn if a certain\n",
    "    color had to be mapped to the default value.\"\"\"\n",
    "    df = df.copy()\n",
    "    defaults = df[df[\"BodyColorText_mapped\"] == \"Other\"][\"BodyColorText\"]\n",
    "    if len(defaults) > 0:\n",
    "        message = f\"The following color(s) have been mapped to 'Other': {defaults.unique()}\"\n",
    "    else:\n",
    "        message = \"All colors have been mapped to specific values.\"\n",
    "    return message"
   ]
  },
  {
   "cell_type": "code",
   "execution_count": 27,
   "metadata": {
    "ExecuteTime": {
     "end_time": "2020-12-11T20:22:12.477319Z",
     "start_time": "2020-12-11T20:22:12.335939Z"
    }
   },
   "outputs": [
    {
     "name": "stdout",
     "output_type": "stream",
     "text": [
      "The following color(s) have been mapped to 'Other': ['violett mét.']\n"
     ]
    }
   ],
   "source": [
    "data_pivot = map_colors(data_pivot)\n",
    "message = check_color_mapping(data_pivot)\n",
    "print(message)"
   ]
  },
  {
   "cell_type": "markdown",
   "metadata": {},
   "source": [
    "###  Map Make"
   ]
  },
  {
   "cell_type": "code",
   "execution_count": 28,
   "metadata": {
    "ExecuteTime": {
     "end_time": "2020-12-11T20:22:13.782672Z",
     "start_time": "2020-12-11T20:22:13.661721Z"
    }
   },
   "outputs": [
    {
     "data": {
      "text/plain": [
       "array(['MERCEDES-BENZ', 'AUDI', 'CHEVROLET', 'PORSCHE', 'FORD (USA)',\n",
       "       'ASTON MARTIN', 'LOTUS', 'LAMBORGHINI', 'RUF', 'BMW', 'LAND ROVER',\n",
       "       'BMW-ALPINA', 'RENAULT', 'BUGATTI', 'BENTLEY', 'GIOTTILINE',\n",
       "       'TRIUMPH', 'LINCOLN', 'FERRARI', 'HUMMER', 'OPEL', 'JAGUAR',\n",
       "       'ALFA ROMEO', 'LANCIA', 'NSU', 'TOYOTA', 'DAIHATSU', 'CITROEN',\n",
       "       'FORD', 'MASERATI', 'VW', 'MG', 'HONDA', 'SUBARU', 'VOLVO',\n",
       "       'MITSUBISHI', 'FIAT', 'MORGAN', 'ROLLS-ROYCE', 'DAEWOO', 'MAZDA',\n",
       "       'CHRYSLER', 'DAIMLER', 'AUSTIN-HEALEY', 'DODGE', 'TALBOT', 'SIMCA',\n",
       "       'McLAREN', 'LEXUS', 'PEUGEOT', 'SAAB', 'MARCOS', 'NISSAN', 'SEAT',\n",
       "       'JEEP', 'TRABANT', 'YES!', 'HYUNDAI', 'MATRA', 'KAISER',\n",
       "       'HARLEY-DAVIDSON', 'SMART', 'PGO', 'DATSUN', 'WIESMANN',\n",
       "       'DE TOMASO', 'DeLorean', 'AUTOBIANCHI', 'MINI', 'AGM'],\n",
       "      dtype=object)"
      ]
     },
     "execution_count": 28,
     "metadata": {},
     "output_type": "execute_result"
    }
   ],
   "source": [
    "makes_raw = data_pivot[\"MakeText\"].unique()\n",
    "makes_raw"
   ]
  },
  {
   "cell_type": "code",
   "execution_count": 58,
   "metadata": {
    "ExecuteTime": {
     "end_time": "2020-12-11T20:40:39.355182Z",
     "start_time": "2020-12-11T20:40:39.213496Z"
    }
   },
   "outputs": [],
   "source": [
    "def create_make_look_up(df):\n",
    "    \"\"\"Create a mapping of all make values in \n",
    "    the target data frame with x.lower(): x. This\n",
    "    will help to map the makes of the supplier \n",
    "    data independent of the case.\n",
    "    \"\"\"\n",
    "    make_look_up = dict(zip(\n",
    "        [x.lower() for x in df[\"make\"].unique().astype(str)],\n",
    "        list(df[\"make\"].unique().astype(str))\n",
    "    ))\n",
    "    return make_look_up\n",
    "\n",
    "def map_makes(df, make_look_up):\n",
    "    \"\"\"Map the makes using the look_up. If a make cannot be\n",
    "    mapped we use it anyway with an appendix \"_SUP\". So \n",
    "    we can decide what to do about it. The make info is to\n",
    "    important to be defaulted.\n",
    "    \"\"\"\n",
    "    df[\"MakeText_mapped\"] = (\n",
    "        data_pivot[\"MakeText\"].str.lower().map(make_look_up)\n",
    "    )\n",
    "    df[\"MakeText_mapped\"] = np.where(\n",
    "        df[\"MakeText_mapped\"].isna(),\n",
    "        df[\"MakeText\"] + \"_SUP\",\n",
    "        df[\"MakeText_mapped\"]\n",
    "    )\n",
    "    return df\n",
    "\n",
    "def check_make_mapping(df):\n",
    "    \"\"\"Log the result of the make mapping. Warn if a certain\n",
    "    make could not be mapped. In this case we will keep the\n",
    "    original values and not map to a default value.\n",
    "    \"\"\"\n",
    "    df = df.copy()\n",
    "    not_mapped = df[df[\"MakeText_mapped\"].str.endswith(\"_SUP\")][\"MakeText\"]\n",
    "    for make in not_mapped.unique():\n",
    "        print(make)"
   ]
  },
  {
   "cell_type": "code",
   "execution_count": 59,
   "metadata": {
    "ExecuteTime": {
     "end_time": "2020-12-11T20:40:40.088109Z",
     "start_time": "2020-12-11T20:40:39.940914Z"
    }
   },
   "outputs": [
    {
     "data": {
      "text/plain": [
       "[('toyota', 'Toyota'),\n",
       " ('ferrari', 'Ferrari'),\n",
       " ('porsche', 'Porsche'),\n",
       " ('rolls-royce', 'Rolls-Royce'),\n",
       " ('gumpert', 'Gumpert')]"
      ]
     },
     "execution_count": 59,
     "metadata": {},
     "output_type": "execute_result"
    }
   ],
   "source": [
    "MAKE_LOOK_UP = create_make_look_up(target_data)\n",
    "\n",
    "# Check\n",
    "list(MAKE_LOOK_UP.items())[:5]"
   ]
  },
  {
   "cell_type": "code",
   "execution_count": 60,
   "metadata": {
    "ExecuteTime": {
     "end_time": "2020-12-11T20:40:40.638167Z",
     "start_time": "2020-12-11T20:40:40.483310Z"
    }
   },
   "outputs": [
    {
     "name": "stdout",
     "output_type": "stream",
     "text": [
      "FORD (USA)\n",
      "BMW-ALPINA\n",
      "GIOTTILINE\n",
      "DAIHATSU\n",
      "DAEWOO\n",
      "SEAT\n",
      "HYUNDAI\n",
      "KAISER\n",
      "HARLEY-DAVIDSON\n",
      "DeLorean\n"
     ]
    }
   ],
   "source": [
    "make_look_up = create_make_look_up(target_data)\n",
    "data_pivot = map_makes(data_pivot, make_look_up)\n",
    "message = check_make_mapping(data_pivot)"
   ]
  },
  {
   "cell_type": "code",
   "execution_count": 36,
   "metadata": {
    "ExecuteTime": {
     "end_time": "2020-12-11T20:22:39.125207Z",
     "start_time": "2020-12-11T20:22:39.005704Z"
    }
   },
   "outputs": [
    {
     "name": "stdout",
     "output_type": "stream",
     "text": [
      "The following make(s) have not been mapped to pre-existing values: ['FORD (USA)' 'BMW-ALPINA' 'GIOTTILINE' 'DAIHATSU' 'DAEWOO' 'SEAT'\n",
      " 'HYUNDAI' 'KAISER' 'HARLEY-DAVIDSON' 'DeLorean']\n"
     ]
    }
   ],
   "source": [
    "print(message)"
   ]
  },
  {
   "cell_type": "markdown",
   "metadata": {},
   "source": [
    "### Map Condition\n",
    "\n",
    "Not implemented."
   ]
  },
  {
   "cell_type": "code",
   "execution_count": 37,
   "metadata": {
    "ExecuteTime": {
     "end_time": "2020-12-11T20:22:47.891952Z",
     "start_time": "2020-12-11T20:22:47.772930Z"
    }
   },
   "outputs": [
    {
     "data": {
      "text/plain": [
       "array(['Occasion', 'Oldtimer', 'Neu', 'Vorführmodell'], dtype=object)"
      ]
     },
     "execution_count": 37,
     "metadata": {},
     "output_type": "execute_result"
    },
    {
     "data": {
      "text/plain": [
       "array(['Used', 'Original Condition', 'Restored', 'New',\n",
       "       'Used with guarantee', 'Restoration Project'], dtype=object)"
      ]
     },
     "execution_count": 37,
     "metadata": {},
     "output_type": "execute_result"
    }
   ],
   "source": [
    "data_pivot[\"ConditionTypeText\"].unique()\n",
    "target_data[\"condition\"].unique()"
   ]
  },
  {
   "cell_type": "code",
   "execution_count": 38,
   "metadata": {
    "ExecuteTime": {
     "end_time": "2020-12-11T20:22:48.549657Z",
     "start_time": "2020-12-11T20:22:48.149121Z"
    }
   },
   "outputs": [
    {
     "data": {
      "image/png": "[encoded data removed]",
      "text/plain": [
       "<Figure size 864x432 with 1 Axes>"
      ]
     },
     "metadata": {},
     "output_type": "display_data"
    }
   ],
   "source": [
    "sns.boxplot(data=data_pivot, x=data_pivot[\"FirstRegYear\"].astype(int), y=\"ConditionTypeText\")\n",
    "plt.xlim(1955, 2020);"
   ]
  },
  {
   "cell_type": "code",
   "execution_count": 39,
   "metadata": {
    "ExecuteTime": {
     "end_time": "2020-12-11T20:22:52.868954Z",
     "start_time": "2020-12-11T20:22:52.524011Z"
    }
   },
   "outputs": [
    {
     "data": {
      "image/png": "[encoded data removed]",
      "text/plain": [
       "<Figure size 864x432 with 1 Axes>"
      ]
     },
     "metadata": {},
     "output_type": "display_data"
    }
   ],
   "source": [
    "sns.boxplot(data=target_data, x=\"manufacture_year\", y=\"condition\")\n",
    "plt.xlim(1955, 2020);"
   ]
  },
  {
   "cell_type": "markdown",
   "metadata": {
    "ExecuteTime": {
     "end_time": "2020-12-09T18:38:54.038410Z",
     "start_time": "2020-12-09T18:38:54.033411Z"
    }
   },
   "source": [
    "## Integrate Data (Target Format)"
   ]
  },
  {
   "cell_type": "code",
   "execution_count": 40,
   "metadata": {
    "ExecuteTime": {
     "end_time": "2020-12-11T20:22:56.690803Z",
     "start_time": "2020-12-11T20:22:56.573598Z"
    }
   },
   "outputs": [
    {
     "data": {
      "text/plain": [
       "Index(['ID', 'MakeText', 'TypeName', 'TypeNameFull', 'ModelText',\n",
       "       'ModelTypeText', 'BodyColorText', 'BodyTypeText', 'Ccm', 'City',\n",
       "       'Co2EmissionText', 'ConditionTypeText', 'ConsumptionRatingText',\n",
       "       'ConsumptionTotalText', 'Doors', 'DriveTypeText', 'FirstRegMonth',\n",
       "       'FirstRegYear', 'FuelTypeText', 'Hp', 'InteriorColorText', 'Km',\n",
       "       'Properties', 'Seats', 'TransmissionTypeText', 'BodyColorText_mapped',\n",
       "       'MakeText_mapped'],\n",
       "      dtype='object')"
      ]
     },
     "execution_count": 40,
     "metadata": {},
     "output_type": "execute_result"
    }
   ],
   "source": [
    "data_pivot.columns"
   ]
  },
  {
   "cell_type": "code",
   "execution_count": 42,
   "metadata": {
    "ExecuteTime": {
     "end_time": "2020-12-11T20:23:05.245448Z",
     "start_time": "2020-12-11T20:23:05.117884Z"
    }
   },
   "outputs": [
    {
     "data": {
      "text/plain": [
       "{'carType': 'BodyTypeText',\n",
       " 'color': 'BodyColorText_mapped',\n",
       " 'condition': 'ConditionTypeText',\n",
       " 'currency': None,\n",
       " 'drive': 'DriveTypeText',\n",
       " 'city': 'City',\n",
       " 'country': None,\n",
       " 'make': 'MakeText_mapped',\n",
       " 'manufacture_year': 'FirstRegYear',\n",
       " 'mileage': 'Km',\n",
       " 'mileage_unit': None,\n",
       " 'model': 'ModelText',\n",
       " 'model_variant': 'ModelTypeText',\n",
       " 'price_on_request': None,\n",
       " 'type': None,\n",
       " 'zip': None,\n",
       " 'manufacture_month': 'FirstRegMonth',\n",
       " 'fuel_consumption_unit': 'ConsumptionTotalText'}"
      ]
     },
     "execution_count": 42,
     "metadata": {},
     "output_type": "execute_result"
    }
   ],
   "source": [
    "MAIN_MAPPER"
   ]
  },
  {
   "cell_type": "code",
   "execution_count": 46,
   "metadata": {
    "ExecuteTime": {
     "end_time": "2020-12-11T20:23:33.327623Z",
     "start_time": "2020-12-11T20:23:33.157333Z"
    }
   },
   "outputs": [],
   "source": [
    "def create_column_lists(df, df_target, MAIN_MAPPER):\n",
    "    cols_to_delete = [x for x in df.columns if x not in MAIN_MAPPER.values()]\n",
    "    cols_to_rename = {v: k for k, v in MAIN_MAPPER.items() if v}\n",
    "    cols_tbd = [k for k, v in MAIN_MAPPER.items() if v is None]\n",
    "    cols_target = df_target.columns.tolist()\n",
    "    return cols_to_delete, cols_to_rename, cols_tbd, cols_target"
   ]
  },
  {
   "cell_type": "code",
   "execution_count": 47,
   "metadata": {
    "ExecuteTime": {
     "end_time": "2020-12-11T20:23:33.897962Z",
     "start_time": "2020-12-11T20:23:33.747602Z"
    }
   },
   "outputs": [],
   "source": [
    "column_lists = create_column_lists(data_pivot, target_data, MAIN_MAPPER)"
   ]
  },
  {
   "cell_type": "code",
   "execution_count": 52,
   "metadata": {
    "ExecuteTime": {
     "end_time": "2020-12-11T20:24:41.780924Z",
     "start_time": "2020-12-11T20:24:41.626795Z"
    }
   },
   "outputs": [
    {
     "name": "stdout",
     "output_type": "stream",
     "text": [
      "['ID', 'MakeText', 'TypeName', 'TypeNameFull', 'BodyColorText', 'Ccm', 'Co2EmissionText', 'ConsumptionRatingText', 'Doors', 'FuelTypeText', 'Hp', 'InteriorColorText', 'Properties', 'Seats', 'TransmissionTypeText']\n",
      "{'BodyTypeText': 'carType', 'BodyColorText_mapped': 'color', 'ConditionTypeText': 'condition', 'DriveTypeText': 'drive', 'City': 'city', 'MakeText_mapped': 'make', 'FirstRegYear': 'manufacture_year', 'Km': 'mileage', 'ModelText': 'model', 'ModelTypeText': 'model_variant', 'FirstRegMonth': 'manufacture_month', 'ConsumptionTotalText': 'fuel_consumption_unit'}\n",
      "['currency', 'country', 'mileage_unit', 'price_on_request', 'type', 'zip']\n",
      "['carType', 'color', 'condition', 'currency', 'drive', 'city', 'country', 'make', 'manufacture_year', 'mileage', 'mileage_unit', 'model', 'model_variant', 'price_on_request', 'type', 'zip', 'manufacture_month', 'fuel_consumption_unit']\n"
     ]
    }
   ],
   "source": [
    "for l in column_lists:\n",
    "    print(l)"
   ]
  },
  {
   "cell_type": "code",
   "execution_count": 76,
   "metadata": {
    "ExecuteTime": {
     "end_time": "2020-12-11T21:14:24.762033Z",
     "start_time": "2020-12-11T21:14:24.622767Z"
    }
   },
   "outputs": [],
   "source": [
    "def bring_df_to_target_format(df, cols_to_delete, cols_to_rename, cols_tbd, cols_target):\n",
    "    df = df.drop(cols_to_delete, axis=1)\n",
    "    df = df.rename(columns=cols_to_rename)\n",
    "    for col in cols_tbd:\n",
    "        df[col] = \"TBD\"\n",
    "    assert  df.shape[1] == len(cols_target)\n",
    "    df = df.reindex(cols_target, axis=1)\n",
    "#     df = df.fillna(\"null\")\n",
    "    return df\n",
    "    "
   ]
  },
  {
   "cell_type": "code",
   "execution_count": 77,
   "metadata": {
    "ExecuteTime": {
     "end_time": "2020-12-11T21:14:25.370134Z",
     "start_time": "2020-12-11T21:14:25.215465Z"
    }
   },
   "outputs": [
    {
     "data": {
      "text/html": [
       "<div>\n",
       "<style scoped>\n",
       "    .dataframe tbody tr th:only-of-type {\n",
       "        vertical-align: middle;\n",
       "    }\n",
       "\n",
       "    .dataframe tbody tr th {\n",
       "        vertical-align: top;\n",
       "    }\n",
       "\n",
       "    .dataframe thead th {\n",
       "        text-align: right;\n",
       "    }\n",
       "</style>\n",
       "<table border=\"1\" class=\"dataframe\">\n",
       "  <thead>\n",
       "    <tr style=\"text-align: right;\">\n",
       "      <th></th>\n",
       "      <th>carType</th>\n",
       "      <th>color</th>\n",
       "      <th>condition</th>\n",
       "      <th>currency</th>\n",
       "      <th>drive</th>\n",
       "      <th>city</th>\n",
       "      <th>country</th>\n",
       "      <th>make</th>\n",
       "      <th>manufacture_year</th>\n",
       "      <th>mileage</th>\n",
       "      <th>mileage_unit</th>\n",
       "      <th>model</th>\n",
       "      <th>model_variant</th>\n",
       "      <th>price_on_request</th>\n",
       "      <th>type</th>\n",
       "      <th>zip</th>\n",
       "      <th>manufacture_month</th>\n",
       "      <th>fuel_consumption_unit</th>\n",
       "    </tr>\n",
       "  </thead>\n",
       "  <tbody>\n",
       "    <tr>\n",
       "      <th>0</th>\n",
       "      <td>Limousine</td>\n",
       "      <td>Gray</td>\n",
       "      <td>Occasion</td>\n",
       "      <td>TBD</td>\n",
       "      <td>Allrad</td>\n",
       "      <td>Zuzwil</td>\n",
       "      <td>TBD</td>\n",
       "      <td>Mercedes-Benz</td>\n",
       "      <td>1999</td>\n",
       "      <td>31900</td>\n",
       "      <td>TBD</td>\n",
       "      <td>E 320</td>\n",
       "      <td>E 320 Elégance 4-Matic</td>\n",
       "      <td>TBD</td>\n",
       "      <td>TBD</td>\n",
       "      <td>TBD</td>\n",
       "      <td>1</td>\n",
       "      <td>11.5 l/100km</td>\n",
       "    </tr>\n",
       "    <tr>\n",
       "      <th>1</th>\n",
       "      <td>Kombi</td>\n",
       "      <td>Gray</td>\n",
       "      <td>Occasion</td>\n",
       "      <td>TBD</td>\n",
       "      <td>Allrad</td>\n",
       "      <td>Zuzwil</td>\n",
       "      <td>TBD</td>\n",
       "      <td>Audi</td>\n",
       "      <td>2008</td>\n",
       "      <td>25400</td>\n",
       "      <td>TBD</td>\n",
       "      <td>RS6</td>\n",
       "      <td>RS6 Avant 5.0 V10 quattro</td>\n",
       "      <td>TBD</td>\n",
       "      <td>TBD</td>\n",
       "      <td>TBD</td>\n",
       "      <td>7</td>\n",
       "      <td>14.0 l/100km</td>\n",
       "    </tr>\n",
       "  </tbody>\n",
       "</table>\n",
       "</div>"
      ],
      "text/plain": [
       "     carType color condition currency   drive    city country           make manufacture_year mileage mileage_unit  model              model_variant price_on_request type  zip manufacture_month fuel_consumption_unit\n",
       "0  Limousine  Gray  Occasion      TBD  Allrad  Zuzwil     TBD  Mercedes-Benz             1999   31900          TBD  E 320     E 320 Elégance 4-Matic              TBD  TBD  TBD                 1          11.5 l/100km\n",
       "1      Kombi  Gray  Occasion      TBD  Allrad  Zuzwil     TBD           Audi             2008   25400          TBD    RS6  RS6 Avant 5.0 V10 quattro              TBD  TBD  TBD                 7          14.0 l/100km"
      ]
     },
     "execution_count": 77,
     "metadata": {},
     "output_type": "execute_result"
    }
   ],
   "source": [
    "df_final = bring_df_to_target_format(data_pivot, *column_lists)\n",
    "df_final.head(2)"
   ]
  },
  {
   "cell_type": "code",
   "execution_count": 78,
   "metadata": {
    "ExecuteTime": {
     "end_time": "2020-12-11T21:14:26.356238Z",
     "start_time": "2020-12-11T21:14:26.205985Z"
    }
   },
   "outputs": [
    {
     "data": {
      "text/html": [
       "<div>\n",
       "<style scoped>\n",
       "    .dataframe tbody tr th:only-of-type {\n",
       "        vertical-align: middle;\n",
       "    }\n",
       "\n",
       "    .dataframe tbody tr th {\n",
       "        vertical-align: top;\n",
       "    }\n",
       "\n",
       "    .dataframe thead th {\n",
       "        text-align: right;\n",
       "    }\n",
       "</style>\n",
       "<table border=\"1\" class=\"dataframe\">\n",
       "  <thead>\n",
       "    <tr style=\"text-align: right;\">\n",
       "      <th></th>\n",
       "      <th>carType</th>\n",
       "      <th>color</th>\n",
       "      <th>condition</th>\n",
       "      <th>currency</th>\n",
       "      <th>drive</th>\n",
       "      <th>city</th>\n",
       "      <th>country</th>\n",
       "      <th>make</th>\n",
       "      <th>manufacture_year</th>\n",
       "      <th>mileage</th>\n",
       "      <th>mileage_unit</th>\n",
       "      <th>model</th>\n",
       "      <th>model_variant</th>\n",
       "      <th>price_on_request</th>\n",
       "      <th>type</th>\n",
       "      <th>zip</th>\n",
       "      <th>manufacture_month</th>\n",
       "      <th>fuel_consumption_unit</th>\n",
       "    </tr>\n",
       "  </thead>\n",
       "  <tbody>\n",
       "    <tr>\n",
       "      <th>122</th>\n",
       "      <td>Limousine</td>\n",
       "      <td>Blue</td>\n",
       "      <td>Occasion</td>\n",
       "      <td>TBD</td>\n",
       "      <td>NaN</td>\n",
       "      <td>Zuzwil</td>\n",
       "      <td>TBD</td>\n",
       "      <td>BMW-ALPINA_SUP</td>\n",
       "      <td>1986</td>\n",
       "      <td>199300</td>\n",
       "      <td>TBD</td>\n",
       "      <td>5 SERIES</td>\n",
       "      <td>5 SERIES B7 TURBO</td>\n",
       "      <td>TBD</td>\n",
       "      <td>TBD</td>\n",
       "      <td>TBD</td>\n",
       "      <td>5</td>\n",
       "      <td>NaN</td>\n",
       "    </tr>\n",
       "    <tr>\n",
       "      <th>123</th>\n",
       "      <td>Coupé</td>\n",
       "      <td>Blue</td>\n",
       "      <td>Occasion</td>\n",
       "      <td>TBD</td>\n",
       "      <td>Hinterradantrieb</td>\n",
       "      <td>Porrentruy</td>\n",
       "      <td>TBD</td>\n",
       "      <td>Ferrari</td>\n",
       "      <td>2003</td>\n",
       "      <td>42500</td>\n",
       "      <td>TBD</td>\n",
       "      <td>F360</td>\n",
       "      <td>F360 Modena Berlinetta</td>\n",
       "      <td>TBD</td>\n",
       "      <td>TBD</td>\n",
       "      <td>TBD</td>\n",
       "      <td>11</td>\n",
       "      <td>19.3 l/100km</td>\n",
       "    </tr>\n",
       "    <tr>\n",
       "      <th>124</th>\n",
       "      <td>Kombi</td>\n",
       "      <td>Blue</td>\n",
       "      <td>Occasion</td>\n",
       "      <td>TBD</td>\n",
       "      <td>Allrad</td>\n",
       "      <td>Zuzwil</td>\n",
       "      <td>TBD</td>\n",
       "      <td>Audi</td>\n",
       "      <td>2008</td>\n",
       "      <td>114200</td>\n",
       "      <td>TBD</td>\n",
       "      <td>RS6</td>\n",
       "      <td>RS6 Avant 5.0 V10 quattro</td>\n",
       "      <td>TBD</td>\n",
       "      <td>TBD</td>\n",
       "      <td>TBD</td>\n",
       "      <td>7</td>\n",
       "      <td>14.0 l/100km</td>\n",
       "    </tr>\n",
       "    <tr>\n",
       "      <th>125</th>\n",
       "      <td>Limousine</td>\n",
       "      <td>Blue</td>\n",
       "      <td>Occasion</td>\n",
       "      <td>TBD</td>\n",
       "      <td>Hinterradantrieb</td>\n",
       "      <td>Zuzwil</td>\n",
       "      <td>TBD</td>\n",
       "      <td>BMW</td>\n",
       "      <td>1998</td>\n",
       "      <td>26200</td>\n",
       "      <td>TBD</td>\n",
       "      <td>728</td>\n",
       "      <td>728i</td>\n",
       "      <td>TBD</td>\n",
       "      <td>TBD</td>\n",
       "      <td>TBD</td>\n",
       "      <td>5</td>\n",
       "      <td>10.3 l/100km</td>\n",
       "    </tr>\n",
       "    <tr>\n",
       "      <th>126</th>\n",
       "      <td>Kombi</td>\n",
       "      <td>Blue</td>\n",
       "      <td>Occasion</td>\n",
       "      <td>TBD</td>\n",
       "      <td>Allrad</td>\n",
       "      <td>Zuzwil</td>\n",
       "      <td>TBD</td>\n",
       "      <td>Audi</td>\n",
       "      <td>2003</td>\n",
       "      <td>64500</td>\n",
       "      <td>TBD</td>\n",
       "      <td>RS6</td>\n",
       "      <td>RS6 Avant quattro</td>\n",
       "      <td>TBD</td>\n",
       "      <td>TBD</td>\n",
       "      <td>TBD</td>\n",
       "      <td>5</td>\n",
       "      <td>14.6 l/100km</td>\n",
       "    </tr>\n",
       "    <tr>\n",
       "      <th>...</th>\n",
       "      <td>...</td>\n",
       "      <td>...</td>\n",
       "      <td>...</td>\n",
       "      <td>...</td>\n",
       "      <td>...</td>\n",
       "      <td>...</td>\n",
       "      <td>...</td>\n",
       "      <td>...</td>\n",
       "      <td>...</td>\n",
       "      <td>...</td>\n",
       "      <td>...</td>\n",
       "      <td>...</td>\n",
       "      <td>...</td>\n",
       "      <td>...</td>\n",
       "      <td>...</td>\n",
       "      <td>...</td>\n",
       "      <td>...</td>\n",
       "      <td>...</td>\n",
       "    </tr>\n",
       "    <tr>\n",
       "      <th>1148</th>\n",
       "      <td>Limousine</td>\n",
       "      <td>White</td>\n",
       "      <td>Occasion</td>\n",
       "      <td>TBD</td>\n",
       "      <td>Hinterradantrieb</td>\n",
       "      <td>Zuzwil</td>\n",
       "      <td>TBD</td>\n",
       "      <td>Mercedes-Benz</td>\n",
       "      <td>2007</td>\n",
       "      <td>102000</td>\n",
       "      <td>TBD</td>\n",
       "      <td>S 65 AMG</td>\n",
       "      <td>S 65 AMG L</td>\n",
       "      <td>TBD</td>\n",
       "      <td>TBD</td>\n",
       "      <td>TBD</td>\n",
       "      <td>3</td>\n",
       "      <td>14.8 l/100km</td>\n",
       "    </tr>\n",
       "    <tr>\n",
       "      <th>1149</th>\n",
       "      <td>Limousine</td>\n",
       "      <td>White</td>\n",
       "      <td>Occasion</td>\n",
       "      <td>TBD</td>\n",
       "      <td>Hinterradantrieb</td>\n",
       "      <td>Zuzwil</td>\n",
       "      <td>TBD</td>\n",
       "      <td>BMW</td>\n",
       "      <td>1998</td>\n",
       "      <td>39700</td>\n",
       "      <td>TBD</td>\n",
       "      <td>M5</td>\n",
       "      <td>M5</td>\n",
       "      <td>TBD</td>\n",
       "      <td>TBD</td>\n",
       "      <td>TBD</td>\n",
       "      <td>10</td>\n",
       "      <td>13.9 l/100km</td>\n",
       "    </tr>\n",
       "    <tr>\n",
       "      <th>1150</th>\n",
       "      <td>Limousine</td>\n",
       "      <td>White</td>\n",
       "      <td>Occasion</td>\n",
       "      <td>TBD</td>\n",
       "      <td>Vorderradantrieb</td>\n",
       "      <td>Zuzwil</td>\n",
       "      <td>TBD</td>\n",
       "      <td>Mercedes-Benz</td>\n",
       "      <td>2005</td>\n",
       "      <td>99000</td>\n",
       "      <td>TBD</td>\n",
       "      <td>A 150</td>\n",
       "      <td>A 150 Classic</td>\n",
       "      <td>TBD</td>\n",
       "      <td>TBD</td>\n",
       "      <td>TBD</td>\n",
       "      <td>10</td>\n",
       "      <td>6.7 l/100km</td>\n",
       "    </tr>\n",
       "    <tr>\n",
       "      <th>1151</th>\n",
       "      <td>Coupé</td>\n",
       "      <td>White</td>\n",
       "      <td>Occasion</td>\n",
       "      <td>TBD</td>\n",
       "      <td>Allrad</td>\n",
       "      <td>Porrentruy</td>\n",
       "      <td>TBD</td>\n",
       "      <td>Lamborghini</td>\n",
       "      <td>2008</td>\n",
       "      <td>5900</td>\n",
       "      <td>TBD</td>\n",
       "      <td>NaN</td>\n",
       "      <td>Reventon Coupé</td>\n",
       "      <td>TBD</td>\n",
       "      <td>TBD</td>\n",
       "      <td>TBD</td>\n",
       "      <td>4</td>\n",
       "      <td>NaN</td>\n",
       "    </tr>\n",
       "    <tr>\n",
       "      <th>1152</th>\n",
       "      <td>Kombi</td>\n",
       "      <td>White</td>\n",
       "      <td>Occasion</td>\n",
       "      <td>TBD</td>\n",
       "      <td>Allrad</td>\n",
       "      <td>Zuzwil</td>\n",
       "      <td>TBD</td>\n",
       "      <td>Audi</td>\n",
       "      <td>2004</td>\n",
       "      <td>55000</td>\n",
       "      <td>TBD</td>\n",
       "      <td>RS6</td>\n",
       "      <td>RS6 Avant quattro</td>\n",
       "      <td>TBD</td>\n",
       "      <td>TBD</td>\n",
       "      <td>TBD</td>\n",
       "      <td>3</td>\n",
       "      <td>14.6 l/100km</td>\n",
       "    </tr>\n",
       "  </tbody>\n",
       "</table>\n",
       "<p>1031 rows × 18 columns</p>\n",
       "</div>"
      ],
      "text/plain": [
       "        carType  color condition currency             drive        city country            make manufacture_year mileage mileage_unit     model              model_variant price_on_request type  zip manufacture_month fuel_consumption_unit\n",
       "122   Limousine   Blue  Occasion      TBD               NaN      Zuzwil     TBD  BMW-ALPINA_SUP             1986  199300          TBD  5 SERIES          5 SERIES B7 TURBO              TBD  TBD  TBD                 5                   NaN\n",
       "123       Coupé   Blue  Occasion      TBD  Hinterradantrieb  Porrentruy     TBD         Ferrari             2003   42500          TBD      F360     F360 Modena Berlinetta              TBD  TBD  TBD                11          19.3 l/100km\n",
       "124       Kombi   Blue  Occasion      TBD            Allrad      Zuzwil     TBD            Audi             2008  114200          TBD       RS6  RS6 Avant 5.0 V10 quattro              TBD  TBD  TBD                 7          14.0 l/100km\n",
       "125   Limousine   Blue  Occasion      TBD  Hinterradantrieb      Zuzwil     TBD             BMW             1998   26200          TBD       728                       728i              TBD  TBD  TBD                 5          10.3 l/100km\n",
       "126       Kombi   Blue  Occasion      TBD            Allrad      Zuzwil     TBD            Audi             2003   64500          TBD       RS6          RS6 Avant quattro              TBD  TBD  TBD                 5          14.6 l/100km\n",
       "...         ...    ...       ...      ...               ...         ...     ...             ...              ...     ...          ...       ...                        ...              ...  ...  ...               ...                   ...\n",
       "1148  Limousine  White  Occasion      TBD  Hinterradantrieb      Zuzwil     TBD   Mercedes-Benz             2007  102000          TBD  S 65 AMG                 S 65 AMG L              TBD  TBD  TBD                 3          14.8 l/100km\n",
       "1149  Limousine  White  Occasion      TBD  Hinterradantrieb      Zuzwil     TBD             BMW             1998   39700          TBD        M5                         M5              TBD  TBD  TBD                10          13.9 l/100km\n",
       "1150  Limousine  White  Occasion      TBD  Vorderradantrieb      Zuzwil     TBD   Mercedes-Benz             2005   99000          TBD     A 150              A 150 Classic              TBD  TBD  TBD                10           6.7 l/100km\n",
       "1151      Coupé  White  Occasion      TBD            Allrad  Porrentruy     TBD     Lamborghini             2008    5900          TBD       NaN             Reventon Coupé              TBD  TBD  TBD                 4                   NaN\n",
       "1152      Kombi  White  Occasion      TBD            Allrad      Zuzwil     TBD            Audi             2004   55000          TBD       RS6          RS6 Avant quattro              TBD  TBD  TBD                 3          14.6 l/100km\n",
       "\n",
       "[1031 rows x 18 columns]"
      ]
     },
     "execution_count": 78,
     "metadata": {},
     "output_type": "execute_result"
    }
   ],
   "source": [
    "pd.DataFrame(df_final.loc[122:, :])"
   ]
  },
  {
   "cell_type": "markdown",
   "metadata": {
    "ExecuteTime": {
     "end_time": "2020-12-10T21:18:37.713325Z",
     "start_time": "2020-12-10T21:18:37.563297Z"
    }
   },
   "source": [
    "## Save the two Mapping Dicts"
   ]
  },
  {
   "cell_type": "code",
   "execution_count": null,
   "metadata": {
    "ExecuteTime": {
     "end_time": "2020-12-11T20:21:46.290943Z",
     "start_time": "2020-12-11T20:21:32.712Z"
    }
   },
   "outputs": [],
   "source": [
    "with shelve.open('data/mapper_dicts', 'c') as shelf:   \n",
    "    shelf[\"main_mapper\"] = MAIN_MAPPER\n",
    "    shelf[\"color_mapper\"] = COLOR_MAPPER"
   ]
  }
 ],
 "metadata": {
  "hide_input": false,
  "kernelspec": {
   "display_name": "Python 3",
   "language": "python",
   "name": "python3"
  },
  "language_info": {
   "codemirror_mode": {
    "name": "ipython",
    "version": 3
   },
   "file_extension": ".py",
   "mimetype": "text/x-python",
   "name": "python",
   "nbconvert_exporter": "python",
   "pygments_lexer": "ipython3",
   "version": "3.8.3"
  },
  "toc": {
   "base_numbering": 1,
   "nav_menu": {},
   "number_sections": true,
   "sideBar": false,
   "skip_h1_title": true,
   "title_cell": "Table of Contents",
   "title_sidebar": "Contents",
   "toc_cell": false,
   "toc_position": {},
   "toc_section_display": true,
   "toc_window_display": false
  }
 },
 "nbformat": 4,
 "nbformat_minor": 4
}
